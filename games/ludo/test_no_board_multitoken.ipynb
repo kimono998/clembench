{
 "cells": [
  {
   "metadata": {
    "ExecuteTime": {
     "end_time": "2024-05-17T11:41:16.814513Z",
     "start_time": "2024-05-17T11:41:05.689108Z"
    }
   },
   "cell_type": "code",
   "source": [
    "from backends import ModelSpec, Model, get_model_for, load_model_registry\n",
    "#need to add api key\n",
    "#need to add model_name in the dict\n",
    "#need to create key.json\n",
    "load_model_registry()  # load default model registry from backends folder\n",
    "THIS_MODEL = dict(model_id=\"gpt-3.5-turbo-1106\", backend=\"openai\", model_name = \"gpt-3.5-turbo-1106\") # works without registered entry when openai_api.py backend is available\n"
   ],
   "id": "caef65793d15af31",
   "execution_count": 1,
   "outputs": []
  },
  {
   "metadata": {
    "ExecuteTime": {
     "end_time": "2024-05-17T11:41:17.437300Z",
     "start_time": "2024-05-17T11:41:16.815688Z"
    }
   },
   "cell_type": "code",
   "source": [
    "lmm: Model = get_model_for(THIS_MODEL)\n",
    "\n",
    "lmm.set_gen_args(temperature=0.0, max_tokens=400)\n"
   ],
   "id": "b689e652a2a08a9c",
   "execution_count": 2,
   "outputs": []
  },
  {
   "metadata": {
    "ExecuteTime": {
     "end_time": "2024-05-17T13:14:28.573885Z",
     "start_time": "2024-05-17T13:14:28.534045Z"
    }
   },
   "cell_type": "code",
   "source": [
    "import re\n",
    "\n",
    "#system prompt\n",
    "with open('resources/initial_prompts/simple_prompt_v1.txt', 'r') as f:\n",
    "    sys_prompt = f.read()\n",
    "\n",
    "#initial instruction\n",
    "with open('resources/initial_prompts/no_board_multitoken.txt', 'r') as f:\n",
    "    content = f.read()\n",
    "\n",
    "prefix = \"MY MOVE:\"\n",
    "class Game():\n",
    "    def __init__(self, lmm, initial_msg, sys_prompt):\n",
    "        self.num_fields = 21\n",
    "        self.current_pos = 0\n",
    "        self.msg = initial_msg #initial message -> contains game instructions\n",
    "        self.last_response = []\n",
    "        self.sys_prompt = sys_prompt #system prompt\n",
    "        self.lmm = lmm #language model object\n",
    "        self.rolls = [3,6,4,5,2,6,4,1] #list of rolls per turn\n",
    "        self.board = \" □ □ □ □ □ □ □ □ □ □ □ □ □ □ □ □ □ □ □ □ □ \"\n",
    "        self.turn = 0 #turn counter\n",
    "        self.context = [] #memorized context\n",
    "        self.current_state = '' #current state of the board\n",
    "        self.prefix = \"MY MOVE:\" #used to parse the response\n",
    "        self.sign = \" -> \"\n",
    "        self.token_out = False #false if no token on board yet.\n",
    "        \n",
    "\n",
    "    def make_move(self):\n",
    "        if self.turn == 0: #first turn prompt is slightly different\n",
    "            in_m = f\"Are you ready to play?\\nBeginning State: {self.board}\\n Turn num: {self.turn}, Roll: {self.rolls[self.turn]}. Where will you move your token? Let's think step by step.\"\n",
    "            self.add_message(self.msg + '\\n' + in_m)\n",
    "            init_prompt, init_resp, init_resp_text = self.lmm.generate_response(self.context)\n",
    "            #needs try catch shit here, and everywhere we actually parse/split/index/etc.\n",
    "            move = self.parse_reply(init_resp_text)\n",
    "            #check validity of the move\n",
    "            if self.check_move(move, self.rolls[self.turn]) == True:\n",
    "                \n",
    "                print(self.current_state)\n",
    "                print(move)\n",
    "                self.current_pos = move \n",
    "                self.add_message(init_resp_text, role = 'assistant' ) #if valid, adds response to context\n",
    "                self.turn+=1 #updates step\n",
    "                if move == 6:\n",
    "                    self.update_board(move)\n",
    "                    self.token_out = True \n",
    "                    self.last_response = init_resp_text\n",
    "            else:\n",
    "                print(f'fail at turn: {self.turn}')\n",
    "                print(f'roll: {self.rolls[self.turn]}')\n",
    "                print(f'{init_resp_text}')\n",
    "                self.last_response = init_resp_text\n",
    "                print(self.current_state)\n",
    "                \n",
    "        else:\n",
    "            #if not first turn\n",
    "            m = f\"Current state: {self.current_state}\\n Next turn number: {self.turn}, Roll: {self.rolls[self.turn]}.\\n Where will you move your token? Let's think step by step.\"\n",
    "            self.add_message(m, role = 'user') \n",
    "            given_prompt, response, response_text = lmm.generate_response(self.context)\n",
    "            \n",
    "            move = self.parse_reply(response_text)\n",
    "            if  self.check_move(move, self.rolls[self.turn]) == True:\n",
    "                print(self.current_state)\n",
    "\n",
    "                if self.token_out == False and self.rolls[self.turn] == 6:\n",
    "                    self.token_out = True\n",
    "                       \n",
    "                self.current_pos = move \n",
    "                self.add_message(response_text, role ='assistant')\n",
    "                self.turn+=1\n",
    "                \n",
    "                if self.token_out:\n",
    "                    self.update_board(move)\n",
    "                print(self.current_state)\n",
    "\n",
    "            else: \n",
    "                print(f'fail at turn: {self.turn}')\n",
    "                print(f'roll: {self.rolls[self.turn]}')\n",
    "                print(f'{response_text}')\n",
    "                print(f'move: {move}')\n",
    "                print(self.current_state)\n",
    "                \n",
    "    def check_move(self, move, roll):\n",
    "        #if token not out, true only if rolled 6 and moved to pos 1.\n",
    "        if self.token_out == False:\n",
    "            \n",
    "            if roll == 6 and move == 1:\n",
    "                return True\n",
    "            elif roll !=6 and move == 0:\n",
    "                return True\n",
    "            else:\n",
    "                return False\n",
    "            \n",
    "        if self.token_out:\n",
    "            #no overreaching\n",
    "            if move > self.num_fields:\n",
    "                print(f'f1')\n",
    "                return False\n",
    "            #no backsies\n",
    "            if self.current_pos > move:\n",
    "                print('f2')\n",
    "                return False\n",
    "            \n",
    "            if roll + self.current_pos == move:\n",
    "                return True\n",
    "            \n",
    "            #if llm doesn't move when roll > remaining fields, return True.\n",
    "            elif (roll + self.current_pos > self.num_fields) and self.current_pos == move:\n",
    "                return True\n",
    "            else:\n",
    "                print(f'fails here {roll + self.current_pos} != {move} ')\n",
    "                return False\n",
    "            \n",
    "    \n",
    "    \n",
    "    def parse_reply(self, text):\n",
    "        # parses the reply\n",
    "\n",
    "        parsed = text.split(self.prefix)\n",
    "        print(parsed[1])\n",
    "        final = parsed[1].split(self.sign)\n",
    "        print(f'final: {final}')\n",
    "        return int(final[1])\n",
    "   \n",
    "        \n",
    "    def update_board(self, move):\n",
    "        b = self.board\n",
    "        split_b = b.split()\n",
    "        split_b[move-1] = 'X'\n",
    "        new_b = ' '.join(split_b)\n",
    "        self.current_state = new_b\n",
    "    \n",
    "    \n",
    "        \n",
    "    def add_message(self, message, role='user'):\n",
    "        #add message to context\n",
    "        if self.context == []:\n",
    "            self.context = [\n",
    "                {\"role\": \"system\", \"content\": self.sys_prompt}\n",
    "            ]\n",
    "        self.context.append({\"role\": role, \"content\": message})\n",
    "\n",
    "    def reset(self):\n",
    "        #resets game state\n",
    "        self.turn = 0\n",
    "        self.context = []"
   ],
   "id": "85a4341a15335b6c",
   "execution_count": 157,
   "outputs": []
  },
  {
   "metadata": {
    "ExecuteTime": {
     "end_time": "2024-05-17T13:14:29.217084Z",
     "start_time": "2024-05-17T13:14:29.213056Z"
    }
   },
   "cell_type": "code",
   "source": "instance = Game(lmm, content, sys_prompt)",
   "id": "cd6b48ca6219b93c",
   "execution_count": 158,
   "outputs": []
  },
  {
   "metadata": {
    "ExecuteTime": {
     "end_time": "2024-05-17T13:14:29.862745Z",
     "start_time": "2024-05-17T13:14:29.857611Z"
    }
   },
   "cell_type": "code",
   "source": "instance.turn",
   "id": "672625e34c60113f",
   "execution_count": 159,
   "outputs": []
  },
  {
   "metadata": {
    "ExecuteTime": {
     "end_time": "2024-05-17T13:15:47.805917Z",
     "start_time": "2024-05-17T13:15:46.315220Z"
    }
   },
   "cell_type": "code",
   "source": "instance.make_move()\n",
   "id": "9742d365a452fe2a",
   "execution_count": 174,
   "outputs": []
  },
  {
   "metadata": {
    "ExecuteTime": {
     "end_time": "2024-05-17T13:15:50.512291Z",
     "start_time": "2024-05-17T13:15:50.506102Z"
    }
   },
   "cell_type": "code",
   "source": "instance.context",
   "id": "d04e4aab02da42b7",
   "execution_count": 175,
   "outputs": []
  },
  {
   "metadata": {
    "ExecuteTime": {
     "end_time": "2024-05-16T20:02:10.563438Z",
     "start_time": "2024-05-16T20:02:10.561415Z"
    }
   },
   "cell_type": "code",
   "source": [
    "t = 0\n",
    "\n",
    "def asd(t):\n",
    "    if t == 0:\n",
    "        return 4\n",
    "    if t == 0:\n",
    "        return 1\n",
    "    "
   ],
   "id": "4630d5da059f3e92",
   "execution_count": 17,
   "outputs": []
  },
  {
   "metadata": {
    "ExecuteTime": {
     "end_time": "2024-05-16T20:02:11.613259Z",
     "start_time": "2024-05-16T20:02:11.609134Z"
    }
   },
   "cell_type": "code",
   "source": "v  = asd(t)",
   "id": "f51e64891daf7af6",
   "execution_count": 18,
   "outputs": []
  },
  {
   "metadata": {
    "ExecuteTime": {
     "end_time": "2024-05-17T12:00:41.774704Z",
     "start_time": "2024-05-17T12:00:41.766407Z"
    }
   },
   "cell_type": "code",
   "source": "' X -> 0'.split(' -> ')",
   "id": "b9e5b2b386ae4b1e",
   "execution_count": 38,
   "outputs": []
  },
  {
   "metadata": {
    "ExecuteTime": {
     "end_time": "2024-05-16T20:08:02.831401Z",
     "start_time": "2024-05-16T20:08:02.824767Z"
    }
   },
   "cell_type": "code",
   "source": [
    "def update_board(move):\n",
    "    b = '□ □ □ □ □ □ □ □ □ □ □ □ □ □ □ □ □ □ □ □ □ □ □'\n",
    "    split_b = b.split()\n",
    "    split_b[move-1] = 'X'\n",
    "    new_b = ' '.join(split_b)\n",
    "        \n",
    "    return new_b\n",
    "        \n",
    "    "
   ],
   "id": "957bda160cd3a892",
   "execution_count": 24,
   "outputs": []
  },
  {
   "metadata": {
    "ExecuteTime": {
     "end_time": "2024-05-16T20:08:03.296678Z",
     "start_time": "2024-05-16T20:08:03.294791Z"
    }
   },
   "cell_type": "code",
   "source": "b = update_board(5)",
   "id": "c95ccd3853b6d21a",
   "execution_count": 25,
   "outputs": []
  },
  {
   "metadata": {
    "ExecuteTime": {
     "end_time": "2024-05-16T20:08:04.511864Z",
     "start_time": "2024-05-16T20:08:04.508053Z"
    }
   },
   "cell_type": "code",
   "source": "b",
   "id": "4a67415f737a6bf",
   "execution_count": 26,
   "outputs": []
  },
  {
   "metadata": {},
   "cell_type": "code",
   "execution_count": null,
   "source": "",
   "id": "71f5d8f716530cbc",
   "outputs": []
  }
 ],
 "metadata": {
  "kernelspec": {
   "display_name": "Python 3",
   "language": "python",
   "name": "python3"
  },
  "language_info": {
   "codemirror_mode": {
    "name": "ipython",
    "version": 2
   },
   "file_extension": ".py",
   "mimetype": "text/x-python",
   "name": "python",
   "nbconvert_exporter": "python",
   "pygments_lexer": "ipython2",
   "version": "2.7.6"
  }
 },
 "nbformat": 4,
 "nbformat_minor": 5
}
