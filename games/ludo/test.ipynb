{
 "cells": [
  {
   "metadata": {},
   "cell_type": "code",
   "execution_count": null,
   "source": "",
   "id": "1ff6ffe15a9ac087",
   "outputs": []
  },
  {
   "metadata": {
    "ExecuteTime": {
     "end_time": "2024-05-16T18:57:36.758867Z",
     "start_time": "2024-05-16T18:57:13.093420Z"
    }
   },
   "cell_type": "code",
   "source": "from backends import ModelSpec, Model, get_model_for, load_model_registry\n",
   "id": "initial_id",
   "execution_count": 2,
   "outputs": []
  },
  {
   "metadata": {
    "ExecuteTime": {
     "end_time": "2024-05-16T18:57:36.766790Z",
     "start_time": "2024-05-16T18:57:36.760060Z"
    }
   },
   "cell_type": "code",
   "source": "load_model_registry() # load default model registry from backends folder\n",
   "id": "764143feb44988c",
   "execution_count": 3,
   "outputs": []
  },
  {
   "metadata": {
    "ExecuteTime": {
     "end_time": "2024-05-16T18:57:36.769563Z",
     "start_time": "2024-05-16T18:57:36.767639Z"
    }
   },
   "cell_type": "code",
   "source": "THIS_MODEL = 'gpt-3.5-turbo-1106' # fails if no registered entry\n",
   "id": "a722b3310b3a0fb9",
   "execution_count": 4,
   "outputs": []
  },
  {
   "metadata": {
    "ExecuteTime": {
     "end_time": "2024-05-16T18:57:36.773112Z",
     "start_time": "2024-05-16T18:57:36.771184Z"
    }
   },
   "cell_type": "code",
   "source": [
    "#need to add api key\n",
    "#need to add model_name in the dict\n",
    "#need to create key.json\n",
    "THIS_MODEL = dict(model_id=\"gpt-3.5-turbo-1106\", backend=\"openai\", model_name = \"gpt-3.5-turbo-1106\") # works without registered entry when openai_api.py backend is available\n"
   ],
   "id": "e0ddf149f3a009c4",
   "execution_count": 5,
   "outputs": []
  },
  {
   "metadata": {
    "ExecuteTime": {
     "end_time": "2024-05-13T11:39:18.967176Z",
     "start_time": "2024-05-13T11:39:18.625903Z"
    }
   },
   "cell_type": "code",
   "source": "lmm: Model = get_model_for(THIS_MODEL)\n",
   "id": "542f6045ca97f48",
   "execution_count": 5,
   "outputs": []
  },
  {
   "metadata": {
    "ExecuteTime": {
     "end_time": "2024-05-11T20:59:24.249297Z",
     "start_time": "2024-05-11T20:59:24.243975Z"
    }
   },
   "cell_type": "code",
   "source": "lmm.set_gen_args(temperature = 0.0, max_tokens= 100) \n",
   "id": "3ac9b31268939a0f",
   "execution_count": 10,
   "outputs": []
  },
  {
   "metadata": {
    "ExecuteTime": {
     "end_time": "2024-05-11T20:59:28.012335Z",
     "start_time": "2024-05-11T20:59:27.987926Z"
    }
   },
   "cell_type": "code",
   "source": "?lmm.generate_response\n",
   "id": "6920243f17b20b62",
   "execution_count": 11,
   "outputs": []
  },
  {
   "metadata": {
    "ExecuteTime": {
     "end_time": "2024-05-11T20:59:54.971133Z",
     "start_time": "2024-05-11T20:59:54.966102Z"
    }
   },
   "cell_type": "code",
   "source": [
    "def add_message(context, msg, role='user', sysmsg = 'You are a helpful assistant'):\n",
    "    if context == []:\n",
    "        context = [\n",
    "            {\"role\": \"system\", \"content\": sysmsg}\n",
    "        ]\n",
    "    context.append({\"role\": role, \"content\": msg})\n",
    "    return context\n"
   ],
   "id": "db32883b93ffe4c9",
   "execution_count": 12,
   "outputs": []
  },
  {
   "metadata": {
    "ExecuteTime": {
     "end_time": "2024-05-11T21:00:36.148558Z",
     "start_time": "2024-05-11T21:00:36.138794Z"
    }
   },
   "cell_type": "code",
   "source": "add_message([], \"hello, how are you?\")\n",
   "id": "b9a18904dfd3a551",
   "execution_count": 15,
   "outputs": []
  },
  {
   "metadata": {
    "ExecuteTime": {
     "end_time": "2024-05-11T21:08:21.234414Z",
     "start_time": "2024-05-11T21:08:19.325282Z"
    }
   },
   "cell_type": "code",
   "source": [
    "prompt = add_message([], \"What is benchmarking?\")\n",
    "_, resp, resp_text = lmm.generate_response(prompt)\n",
    "resp_text\n"
   ],
   "id": "250ba9a9520cfc0e",
   "execution_count": 18,
   "outputs": []
  },
  {
   "metadata": {
    "ExecuteTime": {
     "end_time": "2024-05-11T21:09:33.769742Z",
     "start_time": "2024-05-11T21:09:33.764085Z"
    }
   },
   "cell_type": "code",
   "source": [
    "from string import Template\n",
    "\n",
    "init_prompt_A = Template('''Let us play a game. I will tell you a topic and you will give me a short sentence that fits to this topic.\n",
    "But I will also tell you a letter. The sentence that you give me has to start with this letter.\n",
    "After you have answered, I will give you my reply, which will start with the letter following your letter in the alphabet.\n",
    "Then it is your turn again, to produce a reply starting with the letter following that one. And so on. Let's go.\n",
    "Start your utterance with I SAY: and do no produce any other text.\n",
    "The topic is: $topic\n",
    "The letter is: $letter''')"
   ],
   "id": "fc37a2d1a753a934",
   "execution_count": 20,
   "outputs": []
  },
  {
   "metadata": {
    "ExecuteTime": {
     "end_time": "2024-05-11T21:09:37.747508Z",
     "start_time": "2024-05-11T21:09:37.741145Z"
    }
   },
   "cell_type": "code",
   "source": [
    "topic = 'birds'\n",
    "letter = 'h'\n",
    "init_prompt_A.substitute(topic=topic, letter=letter)\n"
   ],
   "id": "17c5460106b9751b",
   "execution_count": 21,
   "outputs": []
  },
  {
   "metadata": {
    "ExecuteTime": {
     "end_time": "2024-05-11T21:09:47.332920Z",
     "start_time": "2024-05-11T21:09:46.286495Z"
    }
   },
   "cell_type": "code",
   "source": [
    "prompt_A, resp, resp_text = lmm.generate_response(add_message([], init_prompt_A.substitute(topic='birds', letter='h')))\n",
    "resp_text\n"
   ],
   "id": "d4286292b96abde4",
   "execution_count": 22,
   "outputs": []
  },
  {
   "metadata": {
    "ExecuteTime": {
     "end_time": "2024-05-11T21:09:58.198996Z",
     "start_time": "2024-05-11T21:09:58.192967Z"
    }
   },
   "cell_type": "code",
   "source": [
    "prefix = 'I SAY: '\n",
    "def parse_reply(text, prefix=prefix):\n",
    "    if not text.startswith(prefix):\n",
    "        return False\n",
    "    return text[len(prefix):]"
   ],
   "id": "a9b691dde39741d2",
   "execution_count": 23,
   "outputs": []
  },
  {
   "metadata": {
    "ExecuteTime": {
     "end_time": "2024-05-11T21:10:02.323369Z",
     "start_time": "2024-05-11T21:10:02.319647Z"
    }
   },
   "cell_type": "code",
   "source": "parse_reply(resp_text)\n",
   "id": "1948e3f9bff1e86d",
   "execution_count": 24,
   "outputs": []
  },
  {
   "metadata": {
    "ExecuteTime": {
     "end_time": "2024-05-11T21:12:20.019641Z",
     "start_time": "2024-05-11T21:12:20.004001Z"
    }
   },
   "cell_type": "code",
   "source": [
    "def check_move(text, letter):\n",
    "    token = text.split()\n",
    "    if token[0][0].lower() == letter: # and token[-1][0].lower() == letter:\n",
    "        return True\n",
    "    return False"
   ],
   "id": "2d46aba9181a5a50",
   "execution_count": 25,
   "outputs": []
  },
  {
   "metadata": {},
   "cell_type": "code",
   "execution_count": 26,
   "source": "check_move(parse_reply(resp_text), letter)\n",
   "id": "fcb06a24aca29021",
   "outputs": []
  },
  {
   "metadata": {},
   "cell_type": "markdown",
   "source": "## Testing for Ludo now\n",
   "id": "8441b705a4ef6b72"
  },
  {
   "metadata": {
    "ExecuteTime": {
     "end_time": "2024-05-12T15:23:30.787940Z",
     "start_time": "2024-05-12T15:23:30.769558Z"
    }
   },
   "cell_type": "code",
   "source": [
    "from backends import ModelSpec, Model, get_model_for, load_model_registry\n",
    "\n",
    "load_model_registry()  # load default model registry from backends folder\n"
   ],
   "id": "d87ba70c0616133c",
   "execution_count": 11,
   "outputs": []
  },
  {
   "metadata": {
    "ExecuteTime": {
     "end_time": "2024-05-12T15:23:31.442800Z",
     "start_time": "2024-05-12T15:23:31.439502Z"
    }
   },
   "cell_type": "code",
   "source": "THIS_MODEL = dict(model_id=\"gpt-3.5-turbo-1106\", backend=\"openai\", model_name = \"gpt-3.5-turbo-1106\") # works without registered entry when openai_api.py backend is available\n",
   "id": "29678a2f2c15391d",
   "execution_count": 12,
   "outputs": []
  },
  {
   "metadata": {
    "ExecuteTime": {
     "end_time": "2024-05-12T15:23:33.038931Z",
     "start_time": "2024-05-12T15:23:32.190383Z"
    }
   },
   "cell_type": "code",
   "source": "",
   "id": "4cab43c146fdf765",
   "execution_count": 13,
   "outputs": []
  },
  {
   "metadata": {
    "ExecuteTime": {
     "end_time": "2024-05-12T15:23:43.978391Z",
     "start_time": "2024-05-12T15:23:43.972992Z"
    }
   },
   "cell_type": "code",
   "source": [
    "from string import Template\n",
    "\n",
    "# init_prompt_A = Template('''Let us play a game. I will tell you a topic and you will give me a short sentence that fits to this topic.\n",
    "# But I will also tell you a letter. The sentence that you give me has to start with this letter.\n",
    "# After you have answered, I will give you my reply, which will start with the letter following your letter in the alphabet.\n",
    "# Then it is your turn again, to produce a reply starting with the letter following that one. And so on. Let's go.\n",
    "# Start your utterance with I SAY: and do no produce any other text.\n",
    "# The topic is: $topic\n",
    "# The letter is: $letter''')"
   ],
   "id": "e47af18dfc5aa1ee",
   "execution_count": 14,
   "outputs": []
  },
  {
   "metadata": {
    "ExecuteTime": {
     "end_time": "2024-05-12T20:40:35.138468Z",
     "start_time": "2024-05-12T20:40:35.127306Z"
    }
   },
   "cell_type": "code",
   "source": [
    "with open('resources/initial_prompts/simple_prompt_v1.txt', 'r') as f:\n",
    "    content = f.read()\n",
    "\n"
   ],
   "id": "b38eee57e102c692",
   "execution_count": 258,
   "outputs": []
  },
  {
   "metadata": {
    "ExecuteTime": {
     "end_time": "2024-05-12T15:47:41.265025Z",
     "start_time": "2024-05-12T15:47:41.260883Z"
    }
   },
   "cell_type": "code",
   "source": [
    "text_prompt = \"\"\n",
    "\n",
    "def add_message(context, msg, role='user', sysmsg = content):\n",
    "    if context == []:\n",
    "        context = [\n",
    "            {\"role\": \"system\", \"content\": sysmsg}\n",
    "        ]\n",
    "    context.append({\"role\": role, \"content\": msg})\n",
    "    return context\n"
   ],
   "id": "9f2628099a4cede7",
   "execution_count": 52,
   "outputs": []
  },
  {
   "metadata": {
    "ExecuteTime": {
     "end_time": "2024-05-12T15:47:41.946937Z",
     "start_time": "2024-05-12T15:47:41.943747Z"
    }
   },
   "cell_type": "code",
   "source": [
    "in_m = \"[start] [] [] [] [] [] [] [] [] [] [] [] [] [] [] [] [] [] [] [] [] [][end]\\n Roll: 6\"\n",
    "prompt = add_message([], in_m)\n"
   ],
   "id": "a71f9119b1904cac",
   "execution_count": 53,
   "outputs": []
  },
  {
   "metadata": {
    "ExecuteTime": {
     "end_time": "2024-05-12T15:47:44.378051Z",
     "start_time": "2024-05-12T15:47:42.666715Z"
    }
   },
   "cell_type": "code",
   "source": "_, resp, resp_text = lmm.generate_response(prompt)\n",
   "id": "d6e866aa62d52c21",
   "execution_count": 54,
   "outputs": []
  },
  {
   "metadata": {
    "ExecuteTime": {
     "end_time": "2024-05-12T15:47:44.383619Z",
     "start_time": "2024-05-12T15:47:44.379894Z"
    }
   },
   "cell_type": "code",
   "source": "resp_text",
   "id": "d1429a0d73853c8e",
   "execution_count": 55,
   "outputs": []
  },
  {
   "metadata": {
    "ExecuteTime": {
     "end_time": "2024-05-12T15:47:48.968186Z",
     "start_time": "2024-05-12T15:47:48.964409Z"
    }
   },
   "cell_type": "code",
   "source": [
    "prefix = \"MY MOVE:\\n\"\n",
    "def parse_reply(text, prefix=prefix):\n",
    "    if not text.startswith(prefix):\n",
    "        return False\n",
    "    return text[len(prefix):]\n"
   ],
   "id": "57c8e414c5d062bd",
   "execution_count": 56,
   "outputs": []
  },
  {
   "metadata": {
    "ExecuteTime": {
     "end_time": "2024-05-12T15:47:50.379744Z",
     "start_time": "2024-05-12T15:47:50.376919Z"
    }
   },
   "cell_type": "code",
   "source": "parsed = parse_reply(resp_text)\n",
   "id": "99f5275c8189d80d",
   "execution_count": 57,
   "outputs": []
  },
  {
   "metadata": {
    "ExecuteTime": {
     "end_time": "2024-05-12T15:47:50.559476Z",
     "start_time": "2024-05-12T15:47:50.556074Z"
    }
   },
   "cell_type": "code",
   "source": [
    "prompt_2 = add_message(_, resp_text, role = 'assistant')\n",
    "next_prompt_2 = add_message(prompt_2, 'Roll: 3', role = 'user')\n",
    "\n",
    "next_prompt_2"
   ],
   "id": "3e1526655d25577f",
   "execution_count": 58,
   "outputs": []
  },
  {
   "metadata": {
    "ExecuteTime": {
     "end_time": "2024-05-12T15:47:54.275821Z",
     "start_time": "2024-05-12T15:47:53.057266Z"
    }
   },
   "cell_type": "code",
   "source": [
    "prompt_A, resp, resp_text = lmm.generate_response(next_prompt_2)\n",
    "resp_text"
   ],
   "id": "f05ac8c97078462e",
   "execution_count": 59,
   "outputs": []
  },
  {
   "metadata": {
    "ExecuteTime": {
     "end_time": "2024-05-12T15:48:21.570171Z",
     "start_time": "2024-05-12T15:48:21.566763Z"
    }
   },
   "cell_type": "code",
   "source": "parsed = parse_reply(resp_text)",
   "id": "dfea91dea1c92af2",
   "execution_count": 63,
   "outputs": []
  },
  {
   "metadata": {},
   "cell_type": "code",
   "execution_count": null,
   "source": [
    "token_flag = \"[A:X]\"\n",
    "field = \"[]\"\n",
    "\n",
    "def check_move(current_state, response, roll):\n",
    "    current_state_list = current_state.split() #parse the fields into individual elements\n",
    "    new_state_list = response.split\n",
    "    \n",
    "    current_state_token_inx = current_state_list.index('[A:X]')\n",
    "    new_state_token_inx = new_state_list.index('[A:X]')\n",
    "    \n",
    "    if current_state_token_inx + roll == new_state_token_inx:\n",
    "        return True\n",
    "    \n",
    "    else:\n",
    "        return False\n",
    "    \n",
    "    \n",
    "    \n",
    "    "
   ],
   "id": "b2d85de5678f176d",
   "outputs": []
  },
  {
   "metadata": {
    "ExecuteTime": {
     "end_time": "2024-05-12T15:48:36.129324Z",
     "start_time": "2024-05-12T15:48:36.122721Z"
    }
   },
   "cell_type": "code",
   "source": "parsed",
   "id": "d5f84452025e1573",
   "execution_count": 64,
   "outputs": []
  },
  {
   "metadata": {
    "ExecuteTime": {
     "end_time": "2024-05-12T15:48:56.223002Z",
     "start_time": "2024-05-12T15:48:56.220296Z"
    }
   },
   "cell_type": "code",
   "source": "t = parsed.split()",
   "id": "1f53b11fd379ea9f",
   "execution_count": 65,
   "outputs": []
  },
  {
   "metadata": {
    "ExecuteTime": {
     "end_time": "2024-05-12T15:50:55.835961Z",
     "start_time": "2024-05-12T15:50:55.822270Z"
    }
   },
   "cell_type": "code",
   "source": "t.index('[A:X]')",
   "id": "42975442a1d3e130",
   "execution_count": 67,
   "outputs": []
  },
  {
   "metadata": {
    "ExecuteTime": {
     "end_time": "2024-05-12T15:56:47.418824Z",
     "start_time": "2024-05-12T15:56:47.413709Z"
    }
   },
   "cell_type": "code",
   "source": [
    "def generate_board_simple(n):\n",
    "    \n",
    "    board = \"[start]\"\n",
    "    \n",
    "    for i in range(n):\n",
    "        board += \" []\"\n",
    "    board += \" [end]\"\n",
    "    \n",
    "    return board\n",
    "    \n",
    "    "
   ],
   "id": "2842cd3b3ab29bca",
   "execution_count": 68,
   "outputs": []
  },
  {
   "metadata": {
    "ExecuteTime": {
     "end_time": "2024-05-12T15:57:02.358848Z",
     "start_time": "2024-05-12T15:57:02.355811Z"
    }
   },
   "cell_type": "code",
   "source": "b = generate_board_simple(25)",
   "id": "1b967d3db77c5014",
   "execution_count": 71,
   "outputs": []
  },
  {
   "metadata": {
    "ExecuteTime": {
     "end_time": "2024-05-12T15:57:02.672965Z",
     "start_time": "2024-05-12T15:57:02.668678Z"
    }
   },
   "cell_type": "code",
   "source": "b",
   "id": "595c113de1ff1c1b",
   "execution_count": 72,
   "outputs": []
  },
  {
   "metadata": {},
   "cell_type": "markdown",
   "source": "## Try 2\n",
   "id": "3ec776dd524298e8"
  },
  {
   "metadata": {
    "ExecuteTime": {
     "end_time": "2024-05-16T19:12:50.459644Z",
     "start_time": "2024-05-16T19:12:50.434642Z"
    }
   },
   "cell_type": "code",
   "source": [
    "import re\n",
    "\n",
    "#system prompt\n",
    "with open('resources/initial_prompts/simple_prompt_v1.txt', 'r') as f:\n",
    "    sys_prompt = f.read()\n",
    "\n",
    "#initial instruction\n",
    "with open('resources/initial_prompts/simple_prompt_v2.txt', 'r') as f:\n",
    "    content = f.read()\n",
    "\n",
    "prefix = \"MY MOVE:\"\n",
    "def parse_reply(text, prefix=prefix):\n",
    "    parsed = text.split(prefix)\n",
    "    return parsed[1]\n",
    "    \n",
    "    #if not text.startswith(prefix):\n",
    "    #    return False\n",
    "    \n",
    "    #return text[len(prefix):]\n",
    "\n",
    "def generate_board_simple(n):\n",
    "    \n",
    "    board = \"[start]\"\n",
    "    \n",
    "    for i in range(n):\n",
    "        board += \" []\"\n",
    "    board += \" [end]\"\n",
    "    \n",
    "    return board\n",
    "\n",
    "def check_move(current_state, response, roll):\n",
    "    current_state_list = current_state.split() #parse the fields into individual elements\n",
    "    new_state_list = response.split()\n",
    "    \n",
    "    current_state_token_inx = current_state_list.index('[A:X]')\n",
    "    new_state_token_inx = new_state_list.index('[A:X]')\n",
    "    \n",
    "    if current_state_token_inx + roll == new_state_token_inx:\n",
    "        return True\n",
    "    \n",
    "    else:\n",
    "        return False\n",
    "    \n",
    "    \n",
    "def add_message(context, msg, role='user', sysmsg = sys_prompt):\n",
    "    if context == []:\n",
    "        context = [\n",
    "            {\"role\": \"system\", \"content\": sysmsg}\n",
    "        ]\n",
    "    context.append({\"role\": role, \"content\": msg})\n",
    "    return context\n",
    "\n",
    "\n",
    "#game class\n",
    "class Game():\n",
    "    def __init__(self, lmm, initial_msg, sys_prompt):\n",
    "        self.msg = initial_msg #initial message -> contains game instructions\n",
    "        self.sys_prompt = sys_prompt #system prompt\n",
    "        self.lmm = lmm #language model object\n",
    "        self.rolls = [3,6,4,5,2,6,4,1] #list of rolls per turn\n",
    "        self.board = \"□ □ □ □ □ □ □ □ □ □ □ □ □ □ □ □ □ □ □ □ □ □ □\"\n",
    "        self.turn = 0 #turn counter\n",
    "        self.context = [] #memorized context\n",
    "        self.current_state = '' #current state of the board\n",
    "        self.prefix = \"MY MOVE:\" #used to parse the response\n",
    "        self.token_out = False #false if no token on board yet.\n",
    "\n",
    "    #makes move\n",
    "    def make_move(self):\n",
    "        if self.turn == 0: #first turn prompt is slightly different\n",
    "            in_m = f\"Are you ready to play?\\nBeginning State: {self.board}\\n Turn num: {self.turn}, Roll: {self.rolls[self.turn]}. Where will you move your token? Let's think step by step.\"\n",
    "            self.add_message(self.msg + '\\n' + in_m)\n",
    "            init_prompt, init_resp, init_resp_text = self.lmm.generate_response(self.context)\n",
    "            \n",
    "            #needs try catch shit here, and everywhere we actually parse/split/index/etc.\n",
    "            parsed = self.parse_reply(init_resp_text)\n",
    "            \n",
    "            #check validity of the move\n",
    "            if self.check_move(parsed, self.rolls[self.turn]) == True:\n",
    "                print(self.current_state)\n",
    "                print(parsed)\n",
    "                self.current_state = parsed \n",
    "                self.add_message(init_resp_text, role = 'assistant' ) #if valid, adds response to context\n",
    "                self.turn+=1 #updates step\n",
    "                if 'X' in self.current_state: #if token has been placed on the board\n",
    "                    self.token_out = True\n",
    "\n",
    "                \n",
    "            else:\n",
    "                print(f'fail at turn: {self.turn}')\n",
    "                print(f'roll: {self.rolls[self.turn]}')\n",
    "                print(f'{init_resp_text}')\n",
    "        else:\n",
    "            #if not first turn\n",
    "            m = f\"Next turn number: {self.turn}, Roll: {self.rolls[self.turn]}.\\n Where will you move your token? Let's think step by step.\"\n",
    "            self.add_message(m, role = 'user') \n",
    "            given_prompt, response, response_text = lmm.generate_response(self.context)\n",
    "            \n",
    "            parsed = self.parse_reply(response_text)\n",
    "            if  self.check_move(parsed, self.rolls[self.turn]) == True:\n",
    "                print(self.current_state)\n",
    "                print(parsed)\n",
    "                self.current_state = parsed\n",
    "                self.add_message(response_text, role ='assistant')\n",
    "                self.turn+=1\n",
    "                if 'X' in self.current_state: #if token has been placed on the board\n",
    "                    self.token_out = True\n",
    "\n",
    "            else: \n",
    "                print(f'fail at turn: {self.turn}')\n",
    "                print(f'roll: {self.rolls[self.turn]}')\n",
    "\n",
    "                print(f'{response_text}')\n",
    "            \n",
    "    \n",
    "    def add_message(self, message, role='user'):\n",
    "        #add message to context\n",
    "        if self.context == []:\n",
    "            self.context = [\n",
    "                {\"role\": \"system\", \"content\": self.sys_prompt}\n",
    "            ]\n",
    "        self.context.append({\"role\": role, \"content\": message})\n",
    "    \n",
    "    \n",
    "    \n",
    "    def check_move(self, response, roll):\n",
    "        #move checker, checks validity\n",
    "        if self.token_out == False:     #if the token hasn't been added to the board\n",
    "            if roll != 6: \n",
    "                #can't add token if 6 isn't roleld\n",
    "                for item in response.split():\n",
    "                    if 'X' in item:\n",
    "                        return False\n",
    "                    else:\n",
    "                        return True\n",
    "            if roll == 6:\n",
    "                #has to add token if 6 is rolled\n",
    "                if 'X' in response.split()[0]:\n",
    "                    return True\n",
    "                else:\n",
    "                    return False\n",
    "        else:\n",
    "            #counts the number of steps moved. Looks at the difference between the current state of the board and LLM's choice of movement. \n",
    "            current_state_list = self.current_state.split() #parse the fields into individual elements\n",
    "            new_state_list = response.split()\n",
    "            if len(current_state_list) != len(new_state_list):\n",
    "                print('field count err')\n",
    "                return False\n",
    "            else:\n",
    "            \n",
    "                if self.token_out == True:\n",
    "                    current_state_token_inx = current_state_list.index('X') + 1\n",
    "                    if 'X' in response:\n",
    "                        new_state_token_inx = new_state_list.index('X') + 1\n",
    "                        print(current_state_token_inx, roll, new_state_token_inx)\n",
    "                        if current_state_token_inx + roll == new_state_token_inx:\n",
    "                            return True\n",
    "                        else:\n",
    "                            return False\n",
    "                    else:\n",
    "                        return False                                        \n",
    "    def reprompt(self, text, err_resp):\n",
    "        \n",
    "        m = f\"{text}\\nThis is the current board state: {self.current_state}\\nNext turn number: {self.turn}, Roll: {self.rolls[self.turn]}.\\n Where will you move your token? Let's think step by step.\"\n",
    "        self.add_message(err_resp, role='assistant')\n",
    "        self.add_message(m, role = 'user') \n",
    "        given_prompt, response, response_text = lmm.generate_response(self.context)\n",
    "        \n",
    "        parsed = self.parse_reply(response_text)\n",
    "        if  self.check_move(parsed, self.rolls[self.turn]) == True:\n",
    "            print(self.current_state)\n",
    "            print(parsed)\n",
    "            self.current_state = parsed\n",
    "            self.add_message(response_text, role ='assistant')\n",
    "            self.turn+=1\n",
    "            if 'X' in self.current_state: #if token has been placed on the board\n",
    "                self.token_out = True\n",
    "        else: \n",
    "            print(f'fail at turn: {self.turn}')\n",
    "            print(f'roll: {self.rolls[self.turn]}')\n",
    "            print(f'{response_text}')\n",
    "            \n",
    "          \n",
    "    \n",
    "    def parse_reply(self, text):\n",
    "        #parses the reply so we only take out the board\n",
    "        parsed = text.split(self.prefix)\n",
    "        return parsed[1]\n",
    "    \n",
    "    def split(self, text):   \n",
    "        #regex to split the board into a list\n",
    "        parts = re.findall(r'\\[.*?\\]', text)\n",
    "        return parts\n",
    "    \n",
    "    def retry(self):\n",
    "        given_prompt, response, response_text = lmm.generate_response(self.context)\n",
    "            \n",
    "        parsed = self.parse_reply(response_text)\n",
    "        if  self.check_move(parsed, self.rolls[self.turn]) == True:\n",
    "            print(self.current_state)\n",
    "            print(parsed)\n",
    "            self.current_state = parsed\n",
    "            self.add_message(response_text, role ='assistant')\n",
    "            self.turn+=1\n",
    "            if 'X' in self.current_state: #if token has been placed on the board\n",
    "                self.token_out = True\n",
    "        else: \n",
    "            print(f'fail at turn: {self.turn}')\n",
    "            print(f'roll: {self.rolls[self.turn]}')\n",
    "            print(f'{response_text}')\n",
    "            \n",
    "    \n",
    "    def reset(self):\n",
    "        #resets game state\n",
    "        self.turn = 0\n",
    "        self.context = []"
   ],
   "id": "18a1434b79b7cfd1",
   "execution_count": 44,
   "outputs": []
  },
  {
   "metadata": {
    "ExecuteTime": {
     "end_time": "2024-05-16T19:12:52.363729Z",
     "start_time": "2024-05-16T19:12:52.361110Z"
    }
   },
   "cell_type": "code",
   "source": "instance = Game(lmm, content, sys_prompt)",
   "id": "978c5c86155ff1d9",
   "execution_count": 45,
   "outputs": []
  },
  {
   "metadata": {
    "ExecuteTime": {
     "end_time": "2024-05-16T19:13:27.263332Z",
     "start_time": "2024-05-16T19:13:23.497604Z"
    }
   },
   "cell_type": "code",
   "source": "instance.make_move()",
   "id": "9fd955c633f20c47",
   "execution_count": 52,
   "outputs": []
  },
  {
   "metadata": {
    "ExecuteTime": {
     "end_time": "2024-05-16T19:13:42.212046Z",
     "start_time": "2024-05-16T19:13:38.118Z"
    }
   },
   "cell_type": "code",
   "source": [
    "err_m = \"My token is on field number 18. You have rolled 4. Since 18 + 4 = 22, I need to move my token to field number 22. This is 4 fields away from my previous position. Since there are 23 fields on the board, I will print 21*□, then 1*X, then 1*□.\\nMY MOVE: □ □ □ □ □ □ □ □ □ □ □ □ □ □ □ □ □ □ □ □ □ □ □ X □\"\n",
    "new_m = \"Hey! it seems that you have made a mistake in counting the number of fields. You printed more than we needed. Let's go one step back and try again.\"\n",
    "\n",
    "instance.reprompt(new_m, err_m)"
   ],
   "id": "6062067c01a28f93",
   "execution_count": 53,
   "outputs": []
  },
  {
   "metadata": {
    "ExecuteTime": {
     "end_time": "2024-05-16T19:11:42.333213Z",
     "start_time": "2024-05-16T19:11:42.329298Z"
    }
   },
   "cell_type": "code",
   "source": "instance.context",
   "id": "279aedc4edcf3817",
   "execution_count": 43,
   "outputs": []
  },
  {
   "metadata": {
    "ExecuteTime": {
     "end_time": "2024-05-16T19:03:52.723372Z",
     "start_time": "2024-05-16T19:03:50.097795Z"
    }
   },
   "cell_type": "code",
   "source": "instance.retry()",
   "id": "da59c8887f542dd",
   "execution_count": 31,
   "outputs": []
  },
  {
   "metadata": {
    "ExecuteTime": {
     "end_time": "2024-05-13T16:12:19.221457Z",
     "start_time": "2024-05-13T16:12:19.217827Z"
    }
   },
   "cell_type": "code",
   "source": "instance.current_state.split().index('X')",
   "id": "7d7b0bdbeb0c3cf2",
   "execution_count": 387,
   "outputs": []
  },
  {
   "metadata": {
    "ExecuteTime": {
     "end_time": "2024-05-13T16:16:32.795380Z",
     "start_time": "2024-05-13T16:16:32.789726Z"
    }
   },
   "cell_type": "code",
   "source": "len('□ □ □ □ X □ □ □ □ □ □ □ □ □ □ □ □ □ □ □ □ □'.split())",
   "id": "cdeab071e92e50fd",
   "execution_count": 401,
   "outputs": []
  },
  {
   "metadata": {
    "ExecuteTime": {
     "end_time": "2024-05-16T18:57:41.958543Z",
     "start_time": "2024-05-16T18:57:40.733551Z"
    }
   },
   "cell_type": "code",
   "source": [
    "lmm: Model = get_model_for(THIS_MODEL)\n",
    "\n",
    "lmm.set_gen_args(temperature=0.0, max_tokens=400)\n",
    "\n",
    "#?lmm.generate_response"
   ],
   "id": "c1a2c929f312d5c1",
   "execution_count": 7,
   "outputs": []
  },
  {
   "metadata": {
    "ExecuteTime": {
     "end_time": "2024-05-12T21:37:30.750980Z",
     "start_time": "2024-05-12T21:37:30.748579Z"
    }
   },
   "cell_type": "code",
   "source": [
    "in_m = \"Are you ready to play?\\nBeginning State: [start] [] [] [] [] [] [] [] [] [] [] [] [] [] [] [] [] [] [] [] [] [][end]\\n Turn num: 0, Roll: 6. Where will you move your token? Let's think step by step.\"\n",
    "prompt = add_message([], content + '\\n' + in_m)\n",
    "\n"
   ],
   "id": "86878a0d22a6e22f",
   "execution_count": 380,
   "outputs": []
  },
  {
   "metadata": {
    "ExecuteTime": {
     "end_time": "2024-05-12T21:37:33.637207Z",
     "start_time": "2024-05-12T21:37:31.872789Z"
    }
   },
   "cell_type": "code",
   "source": "init_prompt, init_resp, init_resp_text = lmm.generate_response(prompt)\n",
   "id": "51d09d7c38575d2c",
   "execution_count": 381,
   "outputs": []
  },
  {
   "metadata": {
    "ExecuteTime": {
     "end_time": "2024-05-12T21:37:34.287861Z",
     "start_time": "2024-05-12T21:37:34.283971Z"
    }
   },
   "cell_type": "code",
   "source": "init_resp_text",
   "id": "b78b178f603d0c9b",
   "execution_count": 382,
   "outputs": []
  },
  {
   "metadata": {
    "ExecuteTime": {
     "end_time": "2024-05-12T20:53:02.256535Z",
     "start_time": "2024-05-12T20:53:02.253608Z"
    }
   },
   "cell_type": "code",
   "source": "",
   "id": "2d077fe2be032306",
   "execution_count": 295,
   "outputs": []
  },
  {
   "metadata": {
    "ExecuteTime": {
     "end_time": "2024-05-12T21:37:46.136907Z",
     "start_time": "2024-05-12T21:37:46.131755Z"
    }
   },
   "cell_type": "code",
   "source": [
    "second_prompt_gpt = add_message(init_prompt, init_resp_text, role = 'assistant')\n",
    "second_prompt_usr = add_message(second_prompt_gpt, \"Next turn number: 1, Roll: 2.\\n Where will you move your token? Let's think step by step. \", role = 'user')"
   ],
   "id": "fc9566008fd93535",
   "execution_count": 383,
   "outputs": []
  },
  {
   "metadata": {
    "ExecuteTime": {
     "end_time": "2024-05-12T21:37:48.590456Z",
     "start_time": "2024-05-12T21:37:47.104091Z"
    }
   },
   "cell_type": "code",
   "source": "second_prompt_resp, second_resp, second_resp_text = lmm.generate_response(second_prompt_usr)",
   "id": "db9f4cb4dd33e19a",
   "execution_count": 384,
   "outputs": []
  },
  {
   "metadata": {
    "ExecuteTime": {
     "end_time": "2024-05-12T21:37:49.270493Z",
     "start_time": "2024-05-12T21:37:49.265316Z"
    }
   },
   "cell_type": "code",
   "source": "second_resp_text",
   "id": "89af1b631b1adbf1",
   "execution_count": 385,
   "outputs": []
  },
  {
   "metadata": {
    "ExecuteTime": {
     "end_time": "2024-05-12T21:38:01.014139Z",
     "start_time": "2024-05-12T21:38:01.010682Z"
    }
   },
   "cell_type": "code",
   "source": [
    "third_prompt_gpt = add_message(second_prompt_resp, second_resp_text, role='assistant')\n",
    "third_prompt_usr = add_message(third_prompt_gpt, \"Correct! Next turn number: 2, Roll: 5.\\n Where will you move your token? Let's think step by step. \", role='user')\n"
   ],
   "id": "b74d1517cb7c8095",
   "execution_count": 386,
   "outputs": []
  },
  {
   "metadata": {
    "ExecuteTime": {
     "end_time": "2024-05-12T21:38:03.953710Z",
     "start_time": "2024-05-12T21:38:02.128320Z"
    }
   },
   "cell_type": "code",
   "source": "third_prompt_resp, third_resp, third_resp_text = lmm.generate_response(third_prompt_usr)\n",
   "id": "a688db1040186ca",
   "execution_count": 387,
   "outputs": []
  },
  {
   "metadata": {
    "ExecuteTime": {
     "end_time": "2024-05-12T21:42:39.561391Z",
     "start_time": "2024-05-12T21:42:39.558323Z"
    }
   },
   "cell_type": "code",
   "source": [
    "parsed = parse_reply(third_resp_text, prefix)\n",
    "parsed_prev = parse_reply(second_resp_text, prefix)"
   ],
   "id": "9e7527aaed20d0ab",
   "execution_count": 399,
   "outputs": []
  },
  {
   "metadata": {
    "ExecuteTime": {
     "end_time": "2024-05-12T21:42:28.816847Z",
     "start_time": "2024-05-12T21:42:28.811326Z"
    }
   },
   "cell_type": "code",
   "source": "third_resp_text.split(prefix)",
   "id": "79218c208950180b",
   "execution_count": 398,
   "outputs": []
  },
  {
   "metadata": {
    "ExecuteTime": {
     "end_time": "2024-05-12T21:38:39.425827Z",
     "start_time": "2024-05-12T21:38:39.415049Z"
    }
   },
   "cell_type": "code",
   "source": "third_resp",
   "id": "2c5a67d18ae3a07e",
   "execution_count": 391,
   "outputs": []
  },
  {
   "metadata": {
    "ExecuteTime": {
     "end_time": "2024-05-12T21:42:43.837004Z",
     "start_time": "2024-05-12T21:42:43.829542Z"
    }
   },
   "cell_type": "code",
   "source": "check_move(parsed_prev, parsed, 5)",
   "id": "f84e9a2b34cef5f3",
   "execution_count": 400,
   "outputs": []
  },
  {
   "metadata": {
    "ExecuteTime": {
     "end_time": "2024-05-12T17:51:41.363168Z",
     "start_time": "2024-05-12T17:51:41.358446Z"
    }
   },
   "cell_type": "code",
   "source": "parsed.split().index('[A:X]')",
   "id": "f64b943611b42263",
   "execution_count": 88,
   "outputs": []
  },
  {
   "metadata": {},
   "cell_type": "code",
   "execution_count": null,
   "source": [
    "class GameState():\n",
    "    def __init__(self, board):\n",
    "        self.board = board\n",
    "        self.n_moves = 0\n",
    "        \n",
    "        "
   ],
   "id": "8b1eb971887583fe",
   "outputs": []
  },
  {
   "metadata": {
    "ExecuteTime": {
     "end_time": "2024-05-12T18:23:56.300173Z",
     "start_time": "2024-05-12T18:23:56.294265Z"
    }
   },
   "cell_type": "code",
   "source": "content",
   "id": "4ae844f0edcee959",
   "execution_count": 159,
   "outputs": []
  },
  {
   "metadata": {
    "ExecuteTime": {
     "end_time": "2024-05-12T22:23:56.355458Z",
     "start_time": "2024-05-12T22:23:56.350806Z"
    }
   },
   "cell_type": "code",
   "source": [
    "for item in parsed.split():\n",
    "    if 'A:X' in item:\n",
    "        print('y')"
   ],
   "id": "7f8fd247e4e10472",
   "execution_count": 410,
   "outputs": []
  },
  {
   "metadata": {
    "ExecuteTime": {
     "end_time": "2024-05-12T22:22:14.486500Z",
     "start_time": "2024-05-12T22:22:14.483969Z"
    }
   },
   "cell_type": "code",
   "source": "parsed",
   "id": "1ac82dcb30a34826",
   "execution_count": 404,
   "outputs": []
  },
  {
   "metadata": {
    "ExecuteTime": {
     "end_time": "2024-05-12T22:22:46.877171Z",
     "start_time": "2024-05-12T22:22:46.871751Z"
    }
   },
   "cell_type": "code",
   "source": "parsed.split()",
   "id": "c6bf296b629450d5",
   "execution_count": 408,
   "outputs": []
  },
  {
   "metadata": {
    "ExecuteTime": {
     "end_time": "2024-05-13T11:44:41.143140Z",
     "start_time": "2024-05-13T11:44:41.138403Z"
    }
   },
   "cell_type": "code",
   "source": [
    "import re\n",
    "\n",
    "init_resp_text = \"[start A:X] [] [] [] [] [] [] [] [] [] [] [] [] [] [] [] [] [] [] [] [] [] [][end]\"\n",
    "\n",
    "parts = re.findall(r'\\[.*?\\]', init_resp_text)\n"
   ],
   "id": "217a01c067f6159f",
   "execution_count": 25,
   "outputs": []
  },
  {
   "metadata": {
    "ExecuteTime": {
     "end_time": "2024-05-13T11:44:47.685161Z",
     "start_time": "2024-05-13T11:44:47.678065Z"
    }
   },
   "cell_type": "code",
   "source": "parts",
   "id": "d1c0fdb78e325a96",
   "execution_count": 27,
   "outputs": []
  },
  {
   "metadata": {},
   "cell_type": "code",
   "execution_count": null,
   "source": "",
   "id": "9bf0d4fe1bd76c70",
   "outputs": []
  }
 ],
 "metadata": {
  "kernelspec": {
   "display_name": "Python 3",
   "language": "python",
   "name": "python3"
  },
  "language_info": {
   "codemirror_mode": {
    "name": "ipython",
    "version": 2
   },
   "file_extension": ".py",
   "mimetype": "text/x-python",
   "name": "python",
   "nbconvert_exporter": "python",
   "pygments_lexer": "ipython2",
   "version": "2.7.6"
  }
 },
 "nbformat": 4,
 "nbformat_minor": 5
}
