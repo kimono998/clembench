{
 "cells": [
  {
   "metadata": {
    "ExecuteTime": {
     "end_time": "2024-05-17T11:41:16.814513Z",
     "start_time": "2024-05-17T11:41:05.689108Z"
    }
   },
   "cell_type": "code",
   "source": [
    "from backends import ModelSpec, Model, get_model_for, load_model_registry\n",
    "#need to add api key\n",
    "#need to add model_name in the dict\n",
    "#need to create key.json\n",
    "load_model_registry()  # load default model registry from backends folder\n",
    "THIS_MODEL = dict(model_id=\"gpt-3.5-turbo-1106\", backend=\"openai\", model_name = \"gpt-3.5-turbo-1106\") # works without registered entry when openai_api.py backend is available\n"
   ],
   "id": "caef65793d15af31",
   "outputs": [],
   "execution_count": 1
  },
  {
   "metadata": {
    "ExecuteTime": {
     "end_time": "2024-05-17T11:41:17.437300Z",
     "start_time": "2024-05-17T11:41:16.815688Z"
    }
   },
   "cell_type": "code",
   "source": [
    "lmm: Model = get_model_for(THIS_MODEL)\n",
    "\n",
    "lmm.set_gen_args(temperature=0.0, max_tokens=400)\n"
   ],
   "id": "b689e652a2a08a9c",
   "outputs": [],
   "execution_count": 2
  },
  {
   "metadata": {
    "ExecuteTime": {
     "end_time": "2024-05-17T13:14:28.573885Z",
     "start_time": "2024-05-17T13:14:28.534045Z"
    }
   },
   "cell_type": "code",
   "source": [
    "import re\n",
    "\n",
    "#system prompt\n",
    "with open('resources/initial_prompts/simple_prompt_v1.txt', 'r') as f:\n",
    "    sys_prompt = f.read()\n",
    "\n",
    "#initial instruction\n",
    "with open('resources/initial_prompts/no_board_prompt.txt', 'r') as f:\n",
    "    content = f.read()\n",
    "\n",
    "prefix = \"MY MOVE:\"\n",
    "class Game():\n",
    "    def __init__(self, lmm, initial_msg, sys_prompt):\n",
    "        self.num_fields = 21\n",
    "        self.current_pos = 0\n",
    "        self.msg = initial_msg #initial message -> contains game instructions\n",
    "        self.last_response = []\n",
    "        self.sys_prompt = sys_prompt #system prompt\n",
    "        self.lmm = lmm #language model object\n",
    "        self.rolls = [3,6,4,5,2,6,4,1] #list of rolls per turn\n",
    "        self.board = \" □ □ □ □ □ □ □ □ □ □ □ □ □ □ □ □ □ □ □ □ □ \"\n",
    "        self.turn = 0 #turn counter\n",
    "        self.context = [] #memorized context\n",
    "        self.current_state = '' #current state of the board\n",
    "        self.prefix = \"MY MOVE:\" #used to parse the response\n",
    "        self.sign = \" -> \"\n",
    "        self.token_out = False #false if no token on board yet.\n",
    "        \n",
    "\n",
    "    def make_move(self):\n",
    "        if self.turn == 0: #first turn prompt is slightly different\n",
    "            in_m = f\"Are you ready to play?\\nBeginning State: {self.board}\\n Turn num: {self.turn}, Roll: {self.rolls[self.turn]}. Where will you move your token? Let's think step by step.\"\n",
    "            self.add_message(self.msg + '\\n' + in_m)\n",
    "            init_prompt, init_resp, init_resp_text = self.lmm.generate_response(self.context)\n",
    "            #needs try catch shit here, and everywhere we actually parse/split/index/etc.\n",
    "            move = self.parse_reply(init_resp_text)\n",
    "            #check validity of the move\n",
    "            if self.check_move(move, self.rolls[self.turn]) == True:\n",
    "                \n",
    "                print(self.current_state)\n",
    "                print(move)\n",
    "                self.current_pos = move \n",
    "                self.add_message(init_resp_text, role = 'assistant' ) #if valid, adds response to context\n",
    "                self.turn+=1 #updates step\n",
    "                if move == 6:\n",
    "                    self.update_board(move)\n",
    "                    self.token_out = True \n",
    "                    self.last_response = init_resp_text\n",
    "            else:\n",
    "                print(f'fail at turn: {self.turn}')\n",
    "                print(f'roll: {self.rolls[self.turn]}')\n",
    "                print(f'{init_resp_text}')\n",
    "                self.last_response = init_resp_text\n",
    "                print(self.current_state)\n",
    "                \n",
    "        else:\n",
    "            #if not first turn\n",
    "            m = f\"Current state: {self.current_state}\\n Next turn number: {self.turn}, Roll: {self.rolls[self.turn]}.\\n Where will you move your token? Let's think step by step.\"\n",
    "            self.add_message(m, role = 'user') \n",
    "            given_prompt, response, response_text = lmm.generate_response(self.context)\n",
    "            \n",
    "            move = self.parse_reply(response_text)\n",
    "            if  self.check_move(move, self.rolls[self.turn]) == True:\n",
    "                print(self.current_state)\n",
    "\n",
    "                if self.token_out == False and self.rolls[self.turn] == 6:\n",
    "                    self.token_out = True\n",
    "                       \n",
    "                self.current_pos = move \n",
    "                self.add_message(response_text, role ='assistant')\n",
    "                self.turn+=1\n",
    "                \n",
    "                if self.token_out:\n",
    "                    self.update_board(move)\n",
    "                print(self.current_state)\n",
    "\n",
    "            else: \n",
    "                print(f'fail at turn: {self.turn}')\n",
    "                print(f'roll: {self.rolls[self.turn]}')\n",
    "                print(f'{response_text}')\n",
    "                print(f'move: {move}')\n",
    "                print(self.current_state)\n",
    "                \n",
    "    def check_move(self, move, roll):\n",
    "        #if token not out, true only if rolled 6 and moved to pos 1.\n",
    "        if self.token_out == False:\n",
    "            \n",
    "            if roll == 6 and move == 1:\n",
    "                return True\n",
    "            elif roll !=6 and move == 0:\n",
    "                return True\n",
    "            else:\n",
    "                return False\n",
    "            \n",
    "        if self.token_out:\n",
    "            #no overreaching\n",
    "            if move > self.num_fields:\n",
    "                print(f'f1')\n",
    "                return False\n",
    "            #no backsies\n",
    "            if self.current_pos > move:\n",
    "                print('f2')\n",
    "                return False\n",
    "            \n",
    "            if roll + self.current_pos == move:\n",
    "                return True\n",
    "            \n",
    "            #if llm doesn't move when roll > remaining fields, return True.\n",
    "            elif (roll + self.current_pos > self.num_fields) and self.current_pos == move:\n",
    "                return True\n",
    "            else:\n",
    "                print(f'fails here {roll + self.current_pos} != {move} ')\n",
    "                return False\n",
    "            \n",
    "    \n",
    "    \n",
    "    def parse_reply(self, text):\n",
    "        # parses the reply\n",
    "\n",
    "        parsed = text.split(self.prefix)\n",
    "        print(parsed[1])\n",
    "        final = parsed[1].split(self.sign)\n",
    "        print(f'final: {final}')\n",
    "        return int(final[1])\n",
    "   \n",
    "        \n",
    "    def update_board(self, move):\n",
    "        b = self.board\n",
    "        split_b = b.split()\n",
    "        split_b[move-1] = 'X'\n",
    "        new_b = ' '.join(split_b)\n",
    "        self.current_state = new_b\n",
    "    \n",
    "    \n",
    "        \n",
    "    def add_message(self, message, role='user'):\n",
    "        #add message to context\n",
    "        if self.context == []:\n",
    "            self.context = [\n",
    "                {\"role\": \"system\", \"content\": self.sys_prompt}\n",
    "            ]\n",
    "        self.context.append({\"role\": role, \"content\": message})\n",
    "\n",
    "    def reset(self):\n",
    "        #resets game state\n",
    "        self.turn = 0\n",
    "        self.context = []"
   ],
   "id": "85a4341a15335b6c",
   "outputs": [],
   "execution_count": 157
  },
  {
   "metadata": {
    "ExecuteTime": {
     "end_time": "2024-05-17T13:14:29.217084Z",
     "start_time": "2024-05-17T13:14:29.213056Z"
    }
   },
   "cell_type": "code",
   "source": "instance = Game(lmm, content, sys_prompt)",
   "id": "cd6b48ca6219b93c",
   "outputs": [],
   "execution_count": 158
  },
  {
   "metadata": {
    "ExecuteTime": {
     "end_time": "2024-05-17T13:14:29.862745Z",
     "start_time": "2024-05-17T13:14:29.857611Z"
    }
   },
   "cell_type": "code",
   "source": "instance.turn",
   "id": "672625e34c60113f",
   "outputs": [
    {
     "data": {
      "text/plain": [
       "0"
      ]
     },
     "execution_count": 159,
     "metadata": {},
     "output_type": "execute_result"
    }
   ],
   "execution_count": 159
  },
  {
   "metadata": {
    "ExecuteTime": {
     "end_time": "2024-05-17T13:15:47.805917Z",
     "start_time": "2024-05-17T13:15:46.315220Z"
    }
   },
   "cell_type": "code",
   "source": "instance.make_move()\n",
   "id": "9742d365a452fe2a",
   "outputs": [
    {
     "name": "stdout",
     "output_type": "stream",
     "text": [
      " X -> 19\n",
      "final: [' X', '19']\n",
      "□ □ □ □ □ □ □ □ □ □ □ □ □ □ □ □ □ X □ □ □\n",
      "□ □ □ □ □ □ □ □ □ □ □ □ □ □ □ □ □ □ X □ □\n"
     ]
    }
   ],
   "execution_count": 174
  },
  {
   "metadata": {
    "ExecuteTime": {
     "end_time": "2024-05-17T13:15:50.512291Z",
     "start_time": "2024-05-17T13:15:50.506102Z"
    }
   },
   "cell_type": "code",
   "source": "instance.context",
   "id": "d04e4aab02da42b7",
   "outputs": [
    {
     "data": {
      "text/plain": [
       "[{'role': 'system',\n",
       "  'content': 'You are an avid board game player who likes to play the game according to the given rules.\\n\\n'},\n",
       " {'role': 'user',\n",
       "  'content': 'Welcome to ludogame! Your task is to move a from start to end across the board. I will give you a board with empty fields. An empty field is marked like this □.\\nYour token is marked with X. You token X counts as an occupied field. The total number of fields remains unchanged throughout the game.\\n\\n\\nGeneral instructions:\\n1) Every turn I will give you the current state of the grid. You must tell me what your next move is.\\n2) Your answers must contain the words \"MY MOVE:\", the instruction of how you want the token to move.\\n3) Make sure that you properly count the number of fields in the beginning state! The number of fields will remain unchanged until the end of the game.\\n4) You must keep track of your moves throughout the game. If you remember where your token is, you are less likely to make a mistake.\\n5) The token in the current position provided by me will always be where you left in your previous move.\\n\\n\\n\\nMovement:\\n1) You are only allowed to move if you have a token on the board.\\n2) In the beginning of the game, you do not have any tokens on the board.\\n3) You are only allowed to add your token when I roll a 6. The token is placed on the 1st field on the board.\\n4) If I do not roll a 6, your token cannot be added to the board.\\n5) You can only move from left to right.\\n6) You are only allowed to move when I roll a die.\\n7) You need to move the same number of fields as given by the roll.\\n8) You only have one token. Once you move the token, the previously occupied field is marked with □.\\n9) Fields are counted from left to right.\\n\\nPlease note: you need to keep track of your current position, and move N (rolled number) positions from it. It is important that you do that.\\n\\nEnding the game:\\n1) To end the game, you need to finish at the last field on the grid.\\n2) If a rolled number is higher than the number of remaining fields, you cannot move.\\n\\nNote: The board is updated at every turn. It is one continuous game. You need to memorize your position in the previous turn.\\nThe game begins when I give you the beginning state and roll the first number.\\nTake a deap breath and think through your every step.\\n\\nHere is an example of what one turn looks like. Let\\'s think step by step.\\n\\n\\nQ:\\nBeginning state: □ □ □ □ □ □ □ □ □ □ □ □ □ □ □ □ □ □ □ □ □\\nNext turn number: 0,  Roll: 6. Where will you move your token?\\nA:\\nThere are 21 empty fields and 0 occupied fields. In total: 21 + 0 = 21 fields. There are no tokens on the board. You have rolled a 6. This allows me to place my token on the board at field 1.\\nMY MOVE: X -> 1\\n\\n\\nHere is another example from a different game.\\nQ:\\nCurrent state: □ □ □ □ □ □ □ □ □ X □ □ □ □ □ □ □\\nNext turn number: 5, Roll: 4. Where will you move your token?\\nA:\\nThere were 17 empty fields in the beginning state. Now, there are 16 empty fields and 1 occupied field. In total: 16 + 1 = 17 fields. My token is on field number 10. You have rolled 4. Since 10 + 4 = 14, I need to move my token to field number 14. This is 4 fields away from my previous position.\\nMY MOVE: X -> 14\\n\\n\\nHere is another example from a different game.\\nQ:\\nCurrent state: □ □ □ □ □ □ □ □ □ □ □ □ □ □ □ □ □ □ □ X □ □ □\\nNext turn number: 7, Roll: 5. Where will you move your token?\\nA:\\nThere were 23 empty fields in the beginning state. Now, there are 22 empty fields and 1 occupied field. In total: 22 + 1 = 23 fields. My token is on field number 20. You have rolled 5. This is 5 fields away from my previous position. Since 20 + 5 = 25, and 25 > 23, I cannot move.\\nMY MOVE: X -> 20\\n\\nHere is another example from a different game.\\nQ:\\nCurrent state: □ □ □ □ □ □ □ □ □ □ □ X □ □ □ □ □ □ □\\nNext turn number: 8, Roll: 6. Where will you move your token?\\nA:\\nThere were 20 empty fields in the beginning state. Now, here are 19 empty fields and 1 occupied field. In total: 19 + 1 = 20 fields. My token is on field number 12. You have rolled 6. My token is already on the board. Since 12 + 6 = 18, I need to move my token to field number 18.\\nMY MOVE: X -> 18\\n\\nHere is another example from a different game.\\nQ:\\nBeginning state: □ □ □ □ □ □ □ □ □ □ □ □ □ □ □ □ □ □ □\\nNext turn number: 0,  Roll: 5. Where will you move your token?\\nA:\\nThere are 19 empty fields and 0 occupied fields. In total: 19 + 0 = 23 fields. There are no tokens on the board. Since you have not rolled a 6, I cannot place a token on the board.\\nMY MOVE: X -> 0\\n\\n\\n\\nNow let\\'s really play the game.\\nAre you ready to play?\\nBeginning State:  □ □ □ □ □ □ □ □ □ □ □ □ □ □ □ □ □ □ □ □ □ \\n Turn num: 0, Roll: 3. Where will you move your token? Let\\'s think step by step.'},\n",
       " {'role': 'assistant',\n",
       "  'content': 'There are 21 empty fields and 0 occupied fields. In total: 21 + 0 = 21 fields. There are no tokens on the board. Since you have not rolled a 6, I cannot place a token on the board.\\n\\nMY MOVE: X -> 0'},\n",
       " {'role': 'user',\n",
       "  'content': \"Current state: \\n Next turn number: 1, Roll: 6.\\n Where will you move your token? Let's think step by step.\"},\n",
       " {'role': 'assistant',\n",
       "  'content': 'There are 21 empty fields and 0 occupied fields. In total: 21 + 0 = 21 fields. You have rolled a 6. This allows me to place my token on the board at field 1.\\n\\nMY MOVE: X -> 1'},\n",
       " {'role': 'user',\n",
       "  'content': \"Current state: X □ □ □ □ □ □ □ □ □ □ □ □ □ □ □ □ □ □ □ □\\n Next turn number: 2, Roll: 4.\\n Where will you move your token? Let's think step by step.\"},\n",
       " {'role': 'assistant',\n",
       "  'content': 'There are 20 empty fields and 1 occupied field. In total: 20 + 1 = 21 fields. My token is on field number 1. You have rolled 4. Since 1 + 4 = 5, I need to move my token to field number 5. This is 4 fields away from my previous position.\\n\\nMY MOVE: X -> 5'},\n",
       " {'role': 'user',\n",
       "  'content': \"Current state: □ □ □ □ X □ □ □ □ □ □ □ □ □ □ □ □ □ □ □ □\\n Next turn number: 3, Roll: 5.\\n Where will you move your token? Let's think step by step.\"},\n",
       " {'role': 'assistant',\n",
       "  'content': 'There are 20 empty fields and 1 occupied field. In total: 20 + 1 = 21 fields. My token is on field number 5. You have rolled 5. Since 5 + 5 = 10, I need to move my token to field number 10. This is 5 fields away from my previous position.\\n\\nMY MOVE: X -> 10'},\n",
       " {'role': 'user',\n",
       "  'content': \"Current state: □ □ □ □ □ □ □ □ □ X □ □ □ □ □ □ □ □ □ □ □\\n Next turn number: 4, Roll: 2.\\n Where will you move your token? Let's think step by step.\"},\n",
       " {'role': 'assistant',\n",
       "  'content': 'There are 20 empty fields and 1 occupied field. In total: 20 + 1 = 21 fields. My token is on field number 10. You have rolled 2. Since 10 + 2 = 12, I need to move my token to field number 12. This is 2 fields away from my previous position.\\n\\nMY MOVE: X -> 12'},\n",
       " {'role': 'user',\n",
       "  'content': \"Current state: □ □ □ □ □ □ □ □ □ □ □ X □ □ □ □ □ □ □ □ □\\n Next turn number: 5, Roll: 6.\\n Where will you move your token? Let's think step by step.\"},\n",
       " {'role': 'assistant',\n",
       "  'content': 'There are 20 empty fields and 1 occupied field. In total: 20 + 1 = 21 fields. My token is on field number 12. You have rolled 6. Since 12 + 6 = 18, I need to move my token to field number 18.\\n\\nMY MOVE: X -> 18'},\n",
       " {'role': 'user',\n",
       "  'content': \"Current state: □ □ □ □ □ □ □ □ □ □ □ □ □ □ □ □ □ X □ □ □\\n Next turn number: 6, Roll: 4.\\n Where will you move your token? Let's think step by step.\"},\n",
       " {'role': 'assistant',\n",
       "  'content': 'There are 20 empty fields and 1 occupied field. In total: 20 + 1 = 21 fields. My token is on field number 18. You have rolled 4. Since 18 + 4 = 22, and 22 > 21, I cannot move.\\n\\nMY MOVE: X -> 18'},\n",
       " {'role': 'user',\n",
       "  'content': \"Current state: □ □ □ □ □ □ □ □ □ □ □ □ □ □ □ □ □ X □ □ □\\n Next turn number: 7, Roll: 1.\\n Where will you move your token? Let's think step by step.\"},\n",
       " {'role': 'assistant',\n",
       "  'content': \"Apologies for the confusion earlier. It seems I made a mistake in my previous response. Let's correct that.\\n\\nThere are 20 empty fields and 1 occupied field. In total: 20 + 1 = 21 fields. My token is on field number 18. You have rolled 1. Since 18 + 1 = 19, I need to move my token to field number 19. This is 1 field away from my previous position.\\n\\nMY MOVE: X -> 19\"}]"
      ]
     },
     "execution_count": 175,
     "metadata": {},
     "output_type": "execute_result"
    }
   ],
   "execution_count": 175
  },
  {
   "metadata": {
    "ExecuteTime": {
     "end_time": "2024-05-16T20:02:10.563438Z",
     "start_time": "2024-05-16T20:02:10.561415Z"
    }
   },
   "cell_type": "code",
   "source": [
    "t = 0\n",
    "\n",
    "def asd(t):\n",
    "    if t == 0:\n",
    "        return 4\n",
    "    if t == 0:\n",
    "        return 1\n",
    "    "
   ],
   "id": "4630d5da059f3e92",
   "outputs": [],
   "execution_count": 17
  },
  {
   "metadata": {
    "ExecuteTime": {
     "end_time": "2024-05-16T20:02:11.613259Z",
     "start_time": "2024-05-16T20:02:11.609134Z"
    }
   },
   "cell_type": "code",
   "source": "v  = asd(t)",
   "id": "f51e64891daf7af6",
   "outputs": [],
   "execution_count": 18
  },
  {
   "metadata": {
    "ExecuteTime": {
     "end_time": "2024-05-17T12:00:41.774704Z",
     "start_time": "2024-05-17T12:00:41.766407Z"
    }
   },
   "cell_type": "code",
   "source": "' X -> 0'.split(' -> ')",
   "id": "b9e5b2b386ae4b1e",
   "outputs": [
    {
     "data": {
      "text/plain": [
       "[' X', '0']"
      ]
     },
     "execution_count": 38,
     "metadata": {},
     "output_type": "execute_result"
    }
   ],
   "execution_count": 38
  },
  {
   "metadata": {
    "ExecuteTime": {
     "end_time": "2024-05-16T20:08:02.831401Z",
     "start_time": "2024-05-16T20:08:02.824767Z"
    }
   },
   "cell_type": "code",
   "source": [
    "def update_board(move):\n",
    "    b = '□ □ □ □ □ □ □ □ □ □ □ □ □ □ □ □ □ □ □ □ □ □ □'\n",
    "    split_b = b.split()\n",
    "    split_b[move-1] = 'X'\n",
    "    new_b = ' '.join(split_b)\n",
    "        \n",
    "    return new_b\n",
    "        \n",
    "    "
   ],
   "id": "957bda160cd3a892",
   "outputs": [],
   "execution_count": 24
  },
  {
   "metadata": {
    "ExecuteTime": {
     "end_time": "2024-05-16T20:08:03.296678Z",
     "start_time": "2024-05-16T20:08:03.294791Z"
    }
   },
   "cell_type": "code",
   "source": "b = update_board(5)",
   "id": "c95ccd3853b6d21a",
   "outputs": [],
   "execution_count": 25
  },
  {
   "metadata": {
    "ExecuteTime": {
     "end_time": "2024-05-16T20:08:04.511864Z",
     "start_time": "2024-05-16T20:08:04.508053Z"
    }
   },
   "cell_type": "code",
   "source": "b",
   "id": "4a67415f737a6bf",
   "outputs": [
    {
     "data": {
      "text/plain": [
       "'□ □ □ □ X □ □ □ □ □ □ □ □ □ □ □ □ □ □ □ □ □ □'"
      ]
     },
     "execution_count": 26,
     "metadata": {},
     "output_type": "execute_result"
    }
   ],
   "execution_count": 26
  },
  {
   "metadata": {},
   "cell_type": "code",
   "outputs": [],
   "execution_count": null,
   "source": "",
   "id": "71f5d8f716530cbc"
  }
 ],
 "metadata": {
  "kernelspec": {
   "display_name": "Python 3",
   "language": "python",
   "name": "python3"
  },
  "language_info": {
   "codemirror_mode": {
    "name": "ipython",
    "version": 2
   },
   "file_extension": ".py",
   "mimetype": "text/x-python",
   "name": "python",
   "nbconvert_exporter": "python",
   "pygments_lexer": "ipython2",
   "version": "2.7.6"
  }
 },
 "nbformat": 4,
 "nbformat_minor": 5
}
