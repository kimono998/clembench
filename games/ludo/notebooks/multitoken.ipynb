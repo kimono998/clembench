{
 "cells": [
  {
   "cell_type": "code",
   "execution_count": 1,
   "id": "b7e2e2a81abba08",
   "metadata": {
    "ExecuteTime": {
     "end_time": "2024-05-27T20:00:24.998950Z",
     "start_time": "2024-05-27T20:00:24.987556Z"
    }
   },
   "outputs": [],
   "source": [
    "import os, re\n",
    "os.chdir(\"/Users/Pace/Documents/Education/Universität Potsdam/Semester 4 - Summer 2024/Evaluating Chatp-Optimized Language Models/Project\")\n",
    "from backends import ModelSpec, Model, get_model_for, load_model_registry\n",
    "#need to add api key\n",
    "#need to add model_name in the dict\n",
    "#need to create key.json\n",
    "load_model_registry()  # load default model registry from backends folder\n",
    "THIS_MODEL = dict(model_id=\"gpt-3.5-turbo-1106\", backend=\"openai\", model_name = \"gpt-3.5-turbo-1106\") # works without registered entry when openai_api.py backend is available\n"
   ]
  },
  {
   "cell_type": "code",
   "execution_count": 2,
   "id": "initial_id",
   "metadata": {
    "ExecuteTime": {
     "end_time": "2024-05-27T20:00:25.319887Z",
     "start_time": "2024-05-27T20:00:25.276984Z"
    }
   },
   "outputs": [],
   "source": [
    "import re\n",
    "\n",
    "#system prompt\n",
    "with open('games/ludo/resources/initial_prompts/simple_prompt_v1.txt', 'r') as f:\n",
    "    sys_prompt = f.read()\n",
    "\n",
    "#initial instruction\n",
    "with open('games/ludo/resources/initial_prompts/multitoken_revised_v1.txt', 'r') as f:\n",
    "    content = f.read()\n",
    "\n",
    "prefix = \"MY MOVE:\"\n"
   ]
  },
  {
   "cell_type": "code",
   "execution_count": 3,
   "id": "1d06201172d40a65",
   "metadata": {
    "ExecuteTime": {
     "end_time": "2024-05-27T20:00:26.289708Z",
     "start_time": "2024-05-27T20:00:26.284172Z"
    }
   },
   "outputs": [],
   "source": [
    "lmm: Model = get_model_for(THIS_MODEL)\n",
    "\n",
    "lmm.set_gen_args(temperature=0.0, max_tokens=400)\n"
   ]
  },
  {
   "cell_type": "code",
   "execution_count": 4,
   "id": "9e7032ad1eb29949",
   "metadata": {
    "ExecuteTime": {
     "end_time": "2024-05-27T20:00:26.776755Z",
     "start_time": "2024-05-27T20:00:26.760693Z"
    }
   },
   "outputs": [],
   "source": [
    "prefix = \"MY MOVE:\"\n",
    "\n",
    "# This works. Currently, problem with prompt potentially -> GPT fucks up counting the blocks again. \n",
    "class Game():\n",
    "    def __init__(self, lmm, initial_msg, sys_prompt):\n",
    "        self.num_fields = 23\n",
    "        self.current_pos = {'X': 0, 'Y': 0}  # Track positions of both tokens\n",
    "        self.msg = initial_msg  # initial message -> contains game instructions\n",
    "        self.last_response = []\n",
    "        self.sys_prompt = sys_prompt  # system prompt\n",
    "        self.lmm = lmm  # language model object\n",
    "        self.rolls = [6, 5, 4, 5, 6, 6, 2,3,6,5,1,2,5,3,4]  # list of rolls per turn\n",
    "        self.board = \"□ □ □ □ □ □ □ □ □ □ □ □ □ □ □ □ □ □ □ □ □ □ □\"\n",
    "        self.turn = 0  # turn counter\n",
    "        self.context = []  # memorized context\n",
    "        self.current_state = ''  # current state of the board\n",
    "        self.prefix = \"MY MOVE:\"  # used to parse the response\n",
    "        self.sign = \" -> \"\n",
    "        self.sep = ' ; '\n",
    "        self.tokens_out = {'X': False, 'Y': False}  # Track which tokens are on the board\n",
    "        self.six_count = 0  # Counter for number of 6s rolled\n",
    "\n",
    "    def make_move(self):\n",
    "            if self.turn == 0:  # first turn prompt is slightly different\n",
    "                in_m = f\"Are you ready to play?\\nBeginning State: {self.board}\\n Turn num: {self.turn}, Roll: {self.rolls[self.turn]}. Where will you move your token? Let's think step by step.\"\n",
    "                self.add_message(self.msg + '\\n' + in_m)\n",
    "                init_prompt, init_resp, init_resp_text = self.lmm.generate_response(self.context)\n",
    "                move = self.parse_reply(init_resp_text)\n",
    "                self.last_response = init_resp_text\n",
    "                \n",
    "                if self.check_move(move, self.rolls[self.turn]) == True:\n",
    "                    print(self.board)\n",
    "                    self.add_message(init_resp_text, role='assistant')\n",
    "                    for token in move.keys():\n",
    "                        if move[token] > 0:\n",
    "                            self.tokens_out[token] = True\n",
    "                        \n",
    "                    self.update_board(move)                 \n",
    "                    for token in move.keys():\n",
    "                        self.current_pos[token] = move[token]                 \n",
    "\n",
    "                    self.turn += 1  # updates step\n",
    "                    print(self.current_state)\n",
    "                else:\n",
    "                    print(f'fail at turn: {self.turn}')\n",
    "                    print(f'roll: {self.rolls[self.turn]}')\n",
    "                    print(f'Move: {move}')\n",
    "                    print(f'{init_resp_text}')\n",
    "                    print(self.current_state)\n",
    "            else:\n",
    "                # if not first turn\n",
    "                m = f\"Current state: {self.current_state}\\n Next turn number: {self.turn}, Roll: {self.rolls[self.turn]}.\\n Where will you move your token? Let's think step by step.\"\n",
    "                self.add_message(m, role='user')\n",
    "                given_prompt, response, response_text = self.lmm.generate_response(self.context)\n",
    "                move = self.parse_reply(response_text)\n",
    "                self.last_response = response_text\n",
    "                if self.check_move(move, self.rolls[self.turn]) == True:\n",
    "                    print(self.current_state)\n",
    "                    self.add_message(response_text, role='assistant')\n",
    "                    for token in move.keys():\n",
    "                        if move[token] > 0:\n",
    "                            self.tokens_out[token] = True\n",
    "                            \n",
    "                    self.update_board(move)\n",
    "                    for token in move.keys():\n",
    "                        self.current_pos[token] = move[token]\n",
    "\n",
    "                    self.turn += 1\n",
    "                    \n",
    "                    print(self.current_state)\n",
    "                else:\n",
    "                    print(f'fail at turn: {self.turn}')\n",
    "                    print(f'roll: {self.rolls[self.turn]}')\n",
    "                    print(f'move: {move}')\n",
    "                    print(f'{response_text}')\n",
    "                    print(self.current_state)\n",
    "    \n",
    "    \n",
    "    \n",
    "    def token_moved(self, move):\n",
    "        tl = {}\n",
    "        \n",
    "        for token in move.keys():\n",
    "            \n",
    "            prev = self.current_pos[token]\n",
    "            cur = move[token]\n",
    "        \n",
    "            if prev != cur:\n",
    "                tl[token] = True\n",
    "            else:\n",
    "                tl[token] = False\n",
    "                \n",
    "        return tl\n",
    "    \n",
    "    def both_tokens_moved(self, move):\n",
    "            l = []\n",
    "            for token in move.keys():\n",
    "                if self.current_pos[token] != move[token]:\n",
    "                    l.append(True)\n",
    "                else:\n",
    "                    l.append(False)\n",
    "            if all(l):\n",
    "                return True\n",
    "            else:\n",
    "                return False\n",
    "    \n",
    "    def find_selected(self, tokens_moved):\n",
    "        selected = None\n",
    "        for t in tokens_moved.keys():\n",
    "            if tokens_moved[t] == True:\n",
    "                selected = t\n",
    "                \n",
    "        return selected\n",
    "    \n",
    "    def check_move(self, move, roll):\n",
    "        state = []\n",
    "        \n",
    "        if self.both_tokens_moved(move):\n",
    "            print('f0')\n",
    "            return False\n",
    "        \n",
    "        tokens_moved = self.token_moved(move)\n",
    "        selected = self.find_selected(tokens_moved)\n",
    "        #print(tokens_moved)\n",
    "        #print(selected)\n",
    "        if not selected: # if no move has been made\n",
    "            for token in move.keys(): # iterate through tokens \n",
    "                if not self.tokens_out[token]: # if token is not already on the board\n",
    "                    if roll !=6: # if token is not out, and 6 wasn't rolled, it is true that it cannot be moved.\n",
    "                        state.append(True)\n",
    "                        continue\n",
    "                    else:\n",
    "                        print(f'1')\n",
    "                        return False\n",
    "                else:\n",
    "                    if roll + self.current_pos[token] > self.num_fields:\n",
    "                        state.append(True)\n",
    "                        continue\n",
    "                    else:\n",
    "                        print(f'2')\n",
    "                        return False\n",
    "                    \n",
    "        else:\n",
    "            for token in move.keys():\n",
    "                if not self.tokens_out[token]: # if the token is not on the board\n",
    "                    if token == selected and roll == 6 and move[token] == 1: # valid if token was moved and 6 was rolled\n",
    "                        state.append(True)\n",
    "                        continue\n",
    "                    elif token != selected: # valid if token was not moved at all\n",
    "                        state.append(True)\n",
    "                        continue\n",
    "                        \n",
    "                    else:                   # False otherwise\n",
    "                        print('f3')\n",
    "                        return False\n",
    "                    \n",
    "                else:\n",
    "                    if token == selected and self.current_pos[token] + roll == move[token]:\n",
    "                        state.append(True)\n",
    "                        continue\n",
    "                    elif token != selected:\n",
    "                        state.append(True)\n",
    "                        continue\n",
    "                    else:\n",
    "                        print('f4')\n",
    "                        return False\n",
    "        \n",
    "        if all(state):\n",
    "            return True\n",
    "                        \n",
    "    \n",
    "\n",
    "    def parse_reply(self, text):\n",
    "        match = re.search(r\"MY MOVE: X -> (\\d+) ; Y -> (\\d+)\", text)\n",
    "        if not match:\n",
    "            raise ValueError(\"Invalid response format\")\n",
    "        \n",
    "        x_value = int(match.group(1))\n",
    "        y_value = int(match.group(2))\n",
    "    \n",
    "\n",
    "        return {'X' : x_value, 'Y': y_value}\n",
    "\n",
    "    def update_board(self, move):\n",
    "        split_b = self.board.split()\n",
    "        \n",
    "        for token in move.keys():\n",
    "            pos = move[token]\n",
    "            if self.tokens_out[token]:\n",
    "                split_b[self.current_pos[token] - 1] = '□'\n",
    "                split_b[pos - 1] = token\n",
    "                \n",
    "        new_board = ' '.join(split_b)\n",
    "        self.current_state = new_board\n",
    "\n",
    "    def add_message(self, message, role='user'):\n",
    "        # add message to context\n",
    "        if self.context == []:\n",
    "            self.context = [\n",
    "                {\"role\": \"system\", \"content\": self.sys_prompt}\n",
    "            ]\n",
    "        self.context.append({\"role\": role, \"content\": message})\n",
    "\n",
    "    def reset(self):\n",
    "        # resets game state\n",
    "        self.turn = 0\n",
    "        self.context = []\n"
   ]
  },
  {
   "cell_type": "code",
   "execution_count": 5,
   "id": "c51409a4efdaae66",
   "metadata": {
    "ExecuteTime": {
     "end_time": "2024-05-27T20:00:28.064202Z",
     "start_time": "2024-05-27T20:00:28.060737Z"
    }
   },
   "outputs": [],
   "source": [
    "instance = Game(lmm, content, sys_prompt)\n"
   ]
  },
  {
   "cell_type": "code",
   "execution_count": 6,
   "id": "c33d40a67aeca339",
   "metadata": {
    "ExecuteTime": {
     "end_time": "2024-05-27T20:00:46.420848Z",
     "start_time": "2024-05-27T20:00:44.457469Z"
    }
   },
   "outputs": [
    {
     "name": "stdout",
     "output_type": "stream",
     "text": [
      "□ □ □ □ □ □ □ □ □ □ □ □ □ □ □ □ □ □ □ □ □ □ □\n",
      "X □ □ □ □ □ □ □ □ □ □ □ □ □ □ □ □ □ □ □ □ □ □\n"
     ]
    }
   ],
   "source": [
    "instance.make_move()"
   ]
  },
  {
   "cell_type": "code",
   "execution_count": 7,
   "id": "27dc4f469075d36f",
   "metadata": {
    "ExecuteTime": {
     "end_time": "2024-05-27T20:00:51.280281Z",
     "start_time": "2024-05-27T20:00:51.274578Z"
    }
   },
   "outputs": [
    {
     "data": {
      "text/plain": [
       "'There are 23 empty fields and 0 occupied fields. In total: 23 + 0 = 23 fields. There are no tokens on the board. You have rolled a 6. This allows me to place my token X on the board at field 1.\\n\\nMY MOVE: X -> 1 ; Y -> 0'"
      ]
     },
     "execution_count": 7,
     "metadata": {},
     "output_type": "execute_result"
    }
   ],
   "source": [
    "instance.last_response"
   ]
  },
  {
   "cell_type": "code",
   "execution_count": 8,
   "id": "7a6731331d914f59",
   "metadata": {
    "ExecuteTime": {
     "end_time": "2024-05-27T20:00:56.342025Z",
     "start_time": "2024-05-27T20:00:56.335392Z"
    }
   },
   "outputs": [
    {
     "data": {
      "text/plain": [
       "[{'role': 'system',\n",
       "  'content': 'You are an avid board game player who likes to play the game according to the given rules.'},\n",
       " {'role': 'user',\n",
       "  'content': 'Welcome to my new game! Your task is to move from start to end across the board. I will give you a board with empty fields. An empty field is marked like this □.\\nYour tokens are marked with X and Y. Your tokens X or Y count as occupied fields. The total number of fields remains unchanged throughout the game.\\n\\n\\nGeneral instructions:\\n1) Every turn I will give you the current state of the grid. You must tell me what your next move is.\\n2) Your answers must contain the words \"MY MOVE:\", the instruction of how you want the token to move.\\n3) You must keep track of the state of the board in order to win the game.\\n4) You cannot have 2 tokens in the same field.\\n5) You can only play one token in 1 round.\\n6) You can add a new token when 6 is rolled.\\n7) If both tokens are on the board, no new tokens can be added.\\n8) The number of fields does not change throughout the game! Please remember that. The total number of fields in the game will remain the same as in the initial state. Remember that number.\\n9) If for some reason at any turn you want to tell me that there are more fields than in your initial turn, please remember that the number is wrong and correct yourself.\\n\\n\\nMovement:\\n1) You are only allowed to move if you have a token on the board.\\n2) In the beginning of the game, you do not have any tokens on the board.\\n3) You are only allowed to add a token when I roll a 6. The token is placed on the 1st field on the board.\\n4) If I do not roll a 6, a token cannot be added to the board.\\n5) You can only move from left to right.\\n6) You are only allowed to move when I roll a die.\\n7) You need to move the same number of fields as given by the roll.\\n8) Once you move a token, the previously occupied field is marked with □.\\n9) Fields are counted from left to right.\\n10) If there are 2 tokens on the board, think about which one to move. You want to finish the game in as few moves as possible.\\n11) You have to move if I roll a die, you cannot skip turns.\\n12) If there is already a token on the board and I roll a 6, you can move the token on the board or add the second token. You are free to make a decision.\\n13) If all of the tokens are already on board, and you roll a 6, you are allowed to move any of the tokens.\\n14) All of the other constraints apply at all times. Please consider them.\\nPlease note: you need to keep track of your current position, and move N (rolled number) positions from it. It is important that you do that.\\n\\n\\nEnding the game:\\n1) To end the game, both of your tokens need to be at the last field on the grid.\\n2) If a rolled number is higher than the number of remaining fields from a token, you cannot move that token.\\n3) If you cannot move any of the tokens, you must skip the turn.\\n3) You need at least 2 tokens to be on the board to finish the game. You cannot move your token on the board to the finish line if it\\'s the only token on the board.\\n\\n\\nNote: The board is updated at every turn. It is one continuous game. You need to memorize your position in the previous turn.\\nThe game begins when I give you the beginning state and roll the first number.\\nThink through your every step.\\n\\n\\nHere is an example of what one turn looks like. Let\\'s think step by step.\\n\\nQ:\\nBeginning state: □ □ □ □ □ □ □ □ □ □ □ □ □ □ □ □ □ □ □ □ □ □ □\\nNext turn number: 0,  Roll: 6. Where will you move your token?\\nA:\\nThere are 23 empty fields and 0 occupied fields. In total: 23 + 0 = 23 fields. There are no tokens on the board. You have rolled a 6. This allows me to place my token X on the board at field 1.\\nMY MOVE: X -> 1 ; Y -> 0\\n\\n\\nHere is another example.\\n\\nQ:\\nCurrent state: □ □ □ □ □ □ □ □ □ X □ □ □ □ □ □ □ □ □ □ □ □ □\\nNext turn number: 5, Roll: 4. Where will you move your token?\\nA:\\nThere are 22 empty fields and 1 occupied field. In total: 22 + 1 = 23 fields. My token X is on field number 10 and token Y is not on the board. You have rolled 4. This is 4 fields away from my previous position. Since only token X is on the board, I can try to move token X. Since 10 + 4 = 14, I can move my token X to field number 14.\\nMY MOVE: X -> 14 ; Y -> 0\\n\\n\\nHere is another example.\\n\\nQ:\\nCurrent state: □ □ □ □ □ □ □ □ □ □ □ □ □ □ □ □ □ □ □ X □ □ □\\nNext turn number: 7, Roll: 5. Where will you move your token?\\nA:\\nThere are 22 empty fields and 1 occupied field. In total: 22 + 1 = 23 fields. My token X is on field number 20 and token Y is not on the board. You have rolled 5. This is 5 fields away from my previous position. Since only token X is on the board, I can try to move token X. Since 20 + 5 = 25, and 25 > 23, I cannot move.\\nMY MOVE: X -> 20 ; Y -> 0\\n\\n\\nHere is another example.\\n\\nQ:\\nCurrent state: □ □ □ □ □ □ □ □ □ □ □ X □ □ □ □ □ □ □ □ □ □ □\\nNext turn number: 8, Roll: 6. Where will you move your token?\\nA:\\nThere are 22 empty fields and 1 occupied field. In total: 22 + 1 = 23 fields. I have token X on field number 12. and Y is not on the board. You have rolled 6. Therefore, I can decide to move or put another token on the board.  I decide to put another token on the board. This allows me to place my token Y on the board at field 1.\\nMY MOVE: X -> 12 ; Y -> 1\\n\\n\\nHere is another example.\\n\\nQ:\\nBeginning state: □ □ □ □ □ □ □ □ □ □ □ □ □ □ □ □ □ □ □ □ □ □ □\\nNext turn number: 0,  Roll: 5. Where will you move your token?\\nA:\\nThere are 23 empty fields and 0 occupied fields. In total: 23 + 0 = 23 fields. There are no tokens on the board. Since you have not rolled a 6, I cannot place a token on the board.\\nMY MOVE: X -> 0 ; Y -> 0\\n\\n\\nHere is another example.\\n\\nQ:\\nCurrent state: Y □ □ □ □ □ □ □ □ □ □ X □ □ □ □ □ □ □ □ □ □ □\\nNext turn number: 6, Roll: 3. Where will you move your token?\\nA:\\nThere are 22 empty fields and 2 occupied fields. In total: 21 + 2 = 23 fields. I have token X on field 12 and token Y on field 1. You have rolled 3. This is 3 fields away from my previous position. Since both tokens are on the field, I can try to move any of them. I decide to move my token Y. Since 1 + 3 = 4, I need to move my token to field number 4.\\nMY MOVE: X -> 12 ; Y -> 4\\n\\n\\nHere is another example.\\n\\nQ:\\nCurrent state: □ □ □ □ Y □ □ □ □ □ □ □ □ □ □ □ □ □ □ □ □ X □\\nNext turn number: 7, Roll: 4. Where will you move your token?\\nA:\\nThere are 21 empty fields and 2 occupied fields. In total: 21 + 2 = 23 fields. I have token X on field 22 and token Y on field 5. You have rolled 4. This is 4 fields away from my previous position. Since both tokens are on the field, I can try to move any of them. I decide to move my token X. Since 22 + 4 = 26, and 26 > 23, I cannot move token X. Therefore, I will move token Y. Since 5 + 4 = 9, I need to move token Y to field number 9.\\nMY MOVE: X -> 22 ; Y -> 9\\n\\n\\nHere is another example.\\n\\nQ:\\nCurrent state: □ □ □ □ □ □ □ □ □ □ □ □ □ □ □ □ □ □ □ □ Y X □\\nNext turn number: 7, Roll: 4. Where will you move your token?\\nA:\\nThere are 21 empty fields and 2 occupied fields. In total: 21 + 2 = 23 fields. I have token X on field 22 and token Y on field 21. You have rolled 4. This is 4 fields away from my previous position. Since both tokens are on the field, I can try to move any of them. I decide to move my token Y. Since 21 + 4 = 25, I cannot move token Y. Therefore, I will try token X. Since 22 + 4 = 26, and 26 > 23, I cannot move token X.\\nMY MOVE: X -> 22 ; Y -> 21\\n\\n\\nNow let\\'s really play the game.\\nAre you ready to play?\\nBeginning State: □ □ □ □ □ □ □ □ □ □ □ □ □ □ □ □ □ □ □ □ □ □ □\\n Turn num: 0, Roll: 6. Where will you move your token? Let\\'s think step by step.'},\n",
       " {'role': 'assistant',\n",
       "  'content': 'There are 23 empty fields and 0 occupied fields. In total: 23 + 0 = 23 fields. There are no tokens on the board. You have rolled a 6. This allows me to place my token X on the board at field 1.\\n\\nMY MOVE: X -> 1 ; Y -> 0'}]"
      ]
     },
     "execution_count": 8,
     "metadata": {},
     "output_type": "execute_result"
    }
   ],
   "source": [
    "instance.context\n"
   ]
  },
  {
   "cell_type": "code",
   "execution_count": 9,
   "id": "f8725d7337af3236",
   "metadata": {},
   "outputs": [
    {
     "ename": "NameError",
     "evalue": "name 'move' is not defined",
     "output_type": "error",
     "traceback": [
      "\u001b[0;31m---------------------------------------------------------------------------\u001b[0m",
      "\u001b[0;31mNameError\u001b[0m                                 Traceback (most recent call last)",
      "Cell \u001b[0;32mIn[9], line 1\u001b[0m\n\u001b[0;32m----> 1\u001b[0m instance\u001b[38;5;241m.\u001b[39mcheck_move(\u001b[43mmove\u001b[49m, roll)\n",
      "\u001b[0;31mNameError\u001b[0m: name 'move' is not defined"
     ]
    }
   ],
   "source": [
    "instance.check_move(move, roll)"
   ]
  },
  {
   "cell_type": "code",
   "execution_count": null,
   "id": "f7b274a9a1cb51e3",
   "metadata": {},
   "outputs": [],
   "source": [
    "move = {'X': 1, 'Y': 0}\n",
    "roll = 6"
   ]
  },
  {
   "cell_type": "code",
   "execution_count": null,
   "id": "1ccba2b24399ce64",
   "metadata": {},
   "outputs": [],
   "source": [
    "def both_tokens_moved(self, move):\n",
    "        l = []\n",
    "        for token in move.keys():\n",
    "            if self.current_pos[token] != move[token]:\n",
    "                l.append(True)\n",
    "            else:\n",
    "                l.append(False)\n",
    "        if all(l):\n",
    "            return True\n",
    "        else:\n",
    "            return False\n",
    "\n",
    "def find_selected(self, tokens_moved):\n",
    "    selected = None\n",
    "    for t in tokens_moved.keys():\n",
    "        if tokens_moved[t] == True:\n",
    "            selected = t\n",
    "            \n",
    "    return selected\n",
    "\n",
    "\n",
    "def check_move():\n",
    "    state = []\n",
    "    both_tokens_moved = self.both_tokens_moved(move)\n",
    "    \n",
    "    if both_tokens_moved:\n",
    "        return False\n",
    "    \n",
    "    \n",
    "    tokens_moved = self.token_moved(move)\n",
    "    selected = find_selected(tokens_moved)\n",
    "    \n",
    "    if not selected: # if no move has been made\n",
    "        for token in move.keys(): # iterate through tokens \n",
    "            if not self.tokens_out[token]: # if token is not already on the board\n",
    "                if roll !=6: # if token is not out, and 6 wasn't rolled, it is true that it cannot be moved.\n",
    "                    state.append(True)\n",
    "                    continue\n",
    "                else:\n",
    "                    return False\n",
    "            else:\n",
    "                if roll + self.current_pos[token] > self.num_fields:\n",
    "                    state.append(True)\n",
    "                    continue\n",
    "                else:\n",
    "                    return False\n",
    "                \n",
    "    else:\n",
    "        for token in move.keys():\n",
    "            \n",
    "            if not self.tokens_out[token]: # if the token is not on the board\n",
    "                if token == selected and roll == 6: # valid if token was moved and 6 was rolled\n",
    "                    state.append(True)\n",
    "                    continue\n",
    "                elif token != selected: # valid if token was not moved at all\n",
    "                    state.append(True)\n",
    "                    continue\n",
    "                    \n",
    "                else:                   # False otherwise\n",
    "                    return False\n",
    "                \n",
    "            else:\n",
    "                if token == selected and self.current_pos + roll == move[token]:\n",
    "                    state.append(True)\n",
    "                    continue\n",
    "                elif token != selected:\n",
    "                    state.append(True)\n",
    "                    continue\n",
    "                else:\n",
    "                    return False\n",
    "                \n",
    "                \n",
    "                \n",
    "                \n",
    "    "
   ]
  },
  {
   "cell_type": "code",
   "execution_count": null,
   "id": "6e707441091bac59",
   "metadata": {},
   "outputs": [],
   "source": []
  },
  {
   "cell_type": "code",
   "execution_count": null,
   "id": "42f23393d67bb54a",
   "metadata": {},
   "outputs": [],
   "source": [
    "d = {'X' : 0, 'Y': 1}\n",
    "\n",
    "d1 = {'X' : 0, 'Y': 2}\n",
    "\n",
    "\n"
   ]
  },
  {
   "cell_type": "code",
   "execution_count": null,
   "id": "61a98e3d8ae307f2",
   "metadata": {},
   "outputs": [],
   "source": []
  },
  {
   "cell_type": "code",
   "execution_count": null,
   "id": "873258d00b392c7f",
   "metadata": {},
   "outputs": [],
   "source": []
  },
  {
   "cell_type": "code",
   "execution_count": null,
   "id": "7f2cd8fa4f4a3d0a",
   "metadata": {},
   "outputs": [],
   "source": [
    "    # def check_move(self, move, roll):\n",
    "    #     state = []\n",
    "    #     both_tokens_moved = self.both_tokens_moved(move)\n",
    "    #     move_made = False\n",
    "    #     \n",
    "    #     if both_tokens_moved:\n",
    "    #         print('f0')\n",
    "    #         return False\n",
    "    #     else:\n",
    "    #         for token in move.keys():\n",
    "    #             token_moved = self.token_moved(token, move)\n",
    "    #             if not self.tokens_out[token]:\n",
    "    #                 if roll == 6 and move[token] == 1: # we rolled a 6 and token is at position 1\n",
    "    #                     if not move_made and token_moved: #if we still haven't moved a token this turn AND the current selected token is moved to 1\n",
    "    #                         state.append(True)\n",
    "    #                         move_made = True\n",
    "    #                         continue\n",
    "    #                         \n",
    "    #                     else: #\n",
    "    #                         print('f1')\n",
    "    #                         return False\n",
    "    #             \n",
    "    #                 elif roll != 6 and move[token] == 0:\n",
    "    #                     \n",
    "    #                     state.append(True)\n",
    "    #                     continue\n",
    "    #                     \n",
    "    #                 elif roll == 6 and move[token] == 0:\n",
    "    #                     if move_made:\n",
    "    #                         state.append(True)\n",
    "    #                         continue\n",
    "    #                     else:\n",
    "    #                         print(f'failed here')\n",
    "    #                         print(move_made)\n",
    "    #                         return False\n",
    "    #                  \n",
    "    #                 else:\n",
    "    #                     print(f'error 1 for token {token}')\n",
    "    #                     return False\n",
    "    #                 \n",
    "    #             else:    \n",
    "    #                 if roll + self.current_pos[token] == move[token]: \n",
    "    #                     if not move_made:\n",
    "    #                         \n",
    "    #                         state.append(True)\n",
    "    #                         move_made = True\n",
    "    #                         continue\n",
    "    #                     if move_made:\n",
    "    #                         print('f2')\n",
    "    #                         return False\n",
    "    #                 \n",
    "    #                 elif self.current_pos[token] == move[token]:\n",
    "    #                     if move_made:\n",
    "    #                         state.append(True)\n",
    "    #                         continue\n",
    "    #                         \n",
    "    #                     elif roll +  self.current_pos[token] > self.num_fields:\n",
    "    #                         state.append(True)\n",
    "    #                         continue\n",
    "    #                     \n",
    "    #                         \n",
    "    #                     else:\n",
    "    #                         print('f3')\n",
    "    #                         return False\n",
    "    #                 \n",
    "    #                 elif move[token] > self.num_fields: \n",
    "    #                     print(f'error 2 for token {token}')\n",
    "    #                     return False\n",
    "    #                 \n",
    "    #                 elif self.current_pos[token] > move[token]:\n",
    "    #                     print(f'error 3 for token {token}')          \n",
    "    #                     return False\n",
    "    #                 \n",
    "    #                 else:\n",
    "    #                     print(f'error 4 for token {token}')                    \n",
    "    #                     return False\n",
    "    #                 \n",
    "    #                 \n",
    "    #     if all(state):\n",
    "    #         return True\n"
   ]
  }
 ],
 "metadata": {
  "kernelspec": {
   "display_name": "Python 3",
   "language": "python",
   "name": "python3"
  },
  "language_info": {
   "codemirror_mode": {
    "name": "ipython",
    "version": 3
   },
   "file_extension": ".py",
   "mimetype": "text/x-python",
   "name": "python",
   "nbconvert_exporter": "python",
   "pygments_lexer": "ipython3",
   "version": "3.10.14"
  }
 },
 "nbformat": 4,
 "nbformat_minor": 5
}
